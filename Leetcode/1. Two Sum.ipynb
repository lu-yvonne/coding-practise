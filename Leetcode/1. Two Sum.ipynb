{
 "cells": [
  {
   "cell_type": "code",
   "execution_count": null,
   "metadata": {},
   "outputs": [],
   "source": [
    "# Given an array of integers, return indices of the two numbers such that they add up to a specific target.\n",
    "\n",
    "# You may assume that each input would have exactly one solution, and you may not use the same element twice.\n",
    "\n",
    "# Example:\n",
    "# Given nums = [2, 7, 11, 15], target = 9,\n",
    "\n",
    "# Because nums[0] + nums[1] = 2 + 7 = 9,\n",
    "# return [0, 1]."
   ]
  },
  {
   "cell_type": "code",
   "execution_count": null,
   "metadata": {},
   "outputs": [],
   "source": [
    "# 思路\n",
    "# 方法1：\n",
    "# 暴力求解，循环x，y,两层循环嵌套 \n",
    "# 时间复杂度 O(n^2)\n",
    "\n",
    "class Solution:\n",
    "    def twoSum(self, nums, target):\n",
    "        for i in range(len(nums)-1):\n",
    "            for j in range(i+1,len(nums)):\n",
    "                if x+y == target:\n",
    "                    return [i,j]\n",
    "        return [-1,-1]       "
   ]
  },
  {
   "cell_type": "code",
   "execution_count": null,
   "metadata": {},
   "outputs": [],
   "source": [
    "# 方法2：\n",
    "# set或者字典来实现\n",
    "# for循环枚举x，去set里查询9-x是否在数组里\n",
    "# 细节是因为x不能循环使用，所以每次循环的时候要把x从set里去掉\n",
    "# 时间复杂度 O(N*1)\n",
    "\n",
    "class Solution:\n",
    "    def twoSum(self, nums, target):\n",
    "        dic1 = {}\n",
    "        for i in range(len(nums)):\n",
    "            if target - nums[i] in dic1:\n",
    "                return dic1[target-nums[i]],i\n",
    "            else:\n",
    "                dic1[nums[i]] = i\n",
    "        return -1\n",
    "\n",
    "# 改进版\n",
    "class Solution:\n",
    "    def twoSum(self, nums, target):\n",
    "        dic = {}\n",
    "#         dic1 = dict{}\n",
    "        for i,x in enumerate(nums):\n",
    "            if target - x in dic:\n",
    "                return dic[target-x],i\n",
    "            else:\n",
    "                dic[x] = i\n",
    "        return -1"
   ]
  }
 ],
 "metadata": {
  "kernelspec": {
   "display_name": "Python [default]",
   "language": "python",
   "name": "python3"
  },
  "language_info": {
   "codemirror_mode": {
    "name": "ipython",
    "version": 3
   },
   "file_extension": ".py",
   "mimetype": "text/x-python",
   "name": "python",
   "nbconvert_exporter": "python",
   "pygments_lexer": "ipython3",
   "version": "3.7.0"
  }
 },
 "nbformat": 4,
 "nbformat_minor": 2
}
