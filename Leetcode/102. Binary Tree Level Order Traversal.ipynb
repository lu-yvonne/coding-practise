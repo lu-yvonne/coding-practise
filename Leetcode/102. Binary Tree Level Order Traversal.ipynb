{
 "cells": [
  {
   "cell_type": "code",
   "execution_count": null,
   "metadata": {},
   "outputs": [],
   "source": [
    "# Given a binary tree, return the level order traversal of its nodes' values. (ie, from left to right, level by level).\n",
    "\n",
    "# For example:\n",
    "# Given binary tree [3,9,20,null,null,15,7],\n",
    "#     3\n",
    "#    / \\\n",
    "#   9  20\n",
    "#     /  \\\n",
    "#    15   7\n",
    "# return its level order traversal as:\n",
    "# [\n",
    "#   [3],\n",
    "#   [9,20],\n",
    "#   [15,7]\n",
    "# ]"
   ]
  },
  {
   "cell_type": "code",
   "execution_count": 1,
   "metadata": {},
   "outputs": [
    {
     "name": "stdout",
     "output_type": "stream",
     "text": [
      "[[3], [9, 20], [15, 7]]\n"
     ]
    }
   ],
   "source": [
    "# 思路：\n",
    "# 方法1：BFS 广度优先搜索\n",
    "# Beetch process\n",
    "# 时间复杂度O(N)\n",
    "\n",
    "# Definition for a binary tree node.\n",
    "import collections\n",
    "class TreeNode:\n",
    "    def __init__(self, x):\n",
    "        self.val = x\n",
    "        self.left = None\n",
    "        self.right = None\n",
    "\n",
    "class Solution:\n",
    "    def levelOrder(self, root):\n",
    "        if not root:\n",
    "            return []\n",
    "        res = []\n",
    "        queue = collections.deque() # 创建一个空的双关队列，新加入元素在队尾，先出队列元素为队首元素\n",
    "        queue.append(root)\n",
    "\n",
    "        # visit = set(root) # 在很多时候，需要添加一个是否访问过的set来记录，否则复杂度会非常高（特别是如果是图的话）\n",
    "        \n",
    "        while queue:\n",
    "            level_size =len(queue)\n",
    "            current_level = []\n",
    "            \n",
    "            for _ in range(level_size): # 在当前层添加\n",
    "                node = queue.popleft() # 取出头元素 注意是pop！！！！！\n",
    "                current_level.append(node.val)\n",
    "                if node.left:\n",
    "                    queue.append(node.left)\n",
    "                if node.right:\n",
    "                    queue.append(node.right)\n",
    "#             print(len(queue))\n",
    "                    \n",
    "            res.append(current_level)\n",
    "        return res\n",
    "        \n",
    "root1 = TreeNode(3)\n",
    "root1.left = TreeNode(9)\n",
    "root1.right = TreeNode(20)\n",
    "root1.right.left = TreeNode(15)\n",
    "root1.right.right = TreeNode(7)\n",
    "obj = Solution()\n",
    "test1 = obj.levelOrder(root1)\n",
    "print(test1)"
   ]
  },
  {
   "cell_type": "code",
   "execution_count": null,
   "metadata": {},
   "outputs": [],
   "source": [
    "# 方法2：DFS\n",
    "# 每次记住深度(level)，最后按深度进行输出\n",
    "# 时间复杂度：O(N)\n",
    "\n",
    "# Definition for a binary tree node.\n",
    "# class TreeNode:\n",
    "#     def __init__(self, x):\n",
    "#         self.val = x\n",
    "#         self.left = None\n",
    "#         self.right = None\n",
    "\n",
    "class Solution:\n",
    "    def levelOrder(self, root):\n",
    "        if not root:\n",
    "            return []\n",
    "        self.result = []\n",
    "        self._dfs(root, 0)\n",
    "        return self.result\n",
    "    \n",
    "    def _dfs(self, node, level):\n",
    "        if not node:\n",
    "            return \n",
    "        if len(self.result) < level + 1:\n",
    "            self.result.append([])\n",
    "            \n",
    "        self.result[level].append(node.val) # result是一个二维数组，一维表示层，一维表示层里的值\n",
    "        \n",
    "        self._dfs(node.left, level+1)\n",
    "        self._dfs(node.right, level+1)"
   ]
  }
 ],
 "metadata": {
  "kernelspec": {
   "display_name": "Python [default]",
   "language": "python",
   "name": "python3"
  },
  "language_info": {
   "codemirror_mode": {
    "name": "ipython",
    "version": 3
   },
   "file_extension": ".py",
   "mimetype": "text/x-python",
   "name": "python",
   "nbconvert_exporter": "python",
   "pygments_lexer": "ipython3",
   "version": "3.7.0"
  }
 },
 "nbformat": 4,
 "nbformat_minor": 2
}
