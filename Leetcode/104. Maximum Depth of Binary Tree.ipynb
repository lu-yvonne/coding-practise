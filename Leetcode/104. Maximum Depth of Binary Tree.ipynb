{
 "cells": [
  {
   "cell_type": "code",
   "execution_count": null,
   "metadata": {},
   "outputs": [],
   "source": [
    "# Given a binary tree, find its maximum depth.\n",
    "\n",
    "# The maximum depth is the number of nodes along the longest path from the root node down to the farthest leaf node.\n",
    "\n",
    "# Note: A leaf is a node with no children.\n",
    "\n",
    "# Example:\n",
    "\n",
    "# Given binary tree [3,9,20,null,null,15,7],\n",
    "\n",
    "#     3\n",
    "#    / \\\n",
    "#   9  20\n",
    "#     /  \\\n",
    "#    15   7\n",
    "# return its depth = 3."
   ]
  },
  {
   "cell_type": "code",
   "execution_count": 5,
   "metadata": {},
   "outputs": [
    {
     "name": "stdout",
     "output_type": "stream",
     "text": [
      "3\n"
     ]
    }
   ],
   "source": [
    "# 思路\n",
    "# 方法1：BFS\n",
    "# 每次扫荡的时候判断有的没有节点\n",
    "# min的情况，判断每次扫荡时候是不是叶子节点，最早达到的就是min，最晚到底的就是max\n",
    "# 时间复杂度O(N)\n",
    "\n",
    "# Definition for a binary tree node.\n",
    "class TreeNode:\n",
    "    def __init__(self, x):\n",
    "        self.val = x\n",
    "        self.left = None\n",
    "        self.right = None\n",
    "\n",
    "class Solution:\n",
    "    def maxDepth(self, root):\n",
    "        if not root:\n",
    "            return 0\n",
    "        depth = 0\n",
    "        queue = []\n",
    "        queue.append(root)\n",
    "        while queue:\n",
    "            depth += 1\n",
    "            cur = []\n",
    "            for node in queue:\n",
    "                if node.left:\n",
    "                    cur.append(node.left)\n",
    "                if node.right:\n",
    "                    cur.append(node.right)\n",
    "            queue = cur\n",
    "        return depth\n",
    "    \n",
    "# test\n",
    "root1 = TreeNode(3)\n",
    "root1.left = TreeNode(9)\n",
    "root1.right = TreeNode(20)\n",
    "root1.right.left = TreeNode(15)\n",
    "root1.right.right = TreeNode(7)\n",
    "obj = Solution()\n",
    "test1 = obj.maxDepth(root1)\n",
    "print(test1)"
   ]
  },
  {
   "cell_type": "code",
   "execution_count": null,
   "metadata": {},
   "outputs": [],
   "source": [
    "# 方法2：DFS\n",
    "# 记录level信息，判断如果是叶子节点，更新min或max\n",
    "# 时间复杂度O(N)\n",
    "\n",
    "# Definition for a binary tree node.\n",
    "# class TreeNode:\n",
    "#     def __init__(self, x):\n",
    "#         self.val = x\n",
    "#         self.left = None\n",
    "#         self.right = None\n",
    "\n",
    "class Solution:\n",
    "    def maxDepth(self, root: TreeNode) -> int:\n",
    "        if not root:\n",
    "            return 0\n",
    "        return 1 + max(self.maxDepth(root.left),self.maxDepth(root.right))"
   ]
  }
 ],
 "metadata": {
  "kernelspec": {
   "display_name": "Python [default]",
   "language": "python",
   "name": "python3"
  },
  "language_info": {
   "codemirror_mode": {
    "name": "ipython",
    "version": 3
   },
   "file_extension": ".py",
   "mimetype": "text/x-python",
   "name": "python",
   "nbconvert_exporter": "python",
   "pygments_lexer": "ipython3",
   "version": "3.7.0"
  }
 },
 "nbformat": 4,
 "nbformat_minor": 2
}
