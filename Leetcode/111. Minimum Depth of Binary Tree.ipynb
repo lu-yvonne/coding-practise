{
 "cells": [
  {
   "cell_type": "code",
   "execution_count": null,
   "metadata": {},
   "outputs": [],
   "source": [
    "# Given a binary tree, find its minimum depth.\n",
    "\n",
    "# The minimum depth is the number of nodes along the shortest path from the root node down to the nearest leaf node.\n",
    "\n",
    "# Note: A leaf is a node with no children.\n",
    "\n",
    "# Example:\n",
    "\n",
    "# Given binary tree [3,9,20,null,null,15,7],\n",
    "\n",
    "#     3\n",
    "#    / \\\n",
    "#   9  20\n",
    "#     /  \\\n",
    "#    15   7\n",
    "# return its minimum depth = 2."
   ]
  },
  {
   "cell_type": "code",
   "execution_count": 28,
   "metadata": {},
   "outputs": [
    {
     "name": "stdout",
     "output_type": "stream",
     "text": [
      "2\n"
     ]
    }
   ],
   "source": [
    "# Definition for a binary tree node.\n",
    "class TreeNode:\n",
    "    def __init__(self, x):\n",
    "        self.val = x\n",
    "        self.left = None\n",
    "        self.right = None\n",
    "\n",
    "class Solution:\n",
    "    def minDepth(self, root: TreeNode) -> int:\n",
    "        if not root:\n",
    "            return 0\n",
    "        depth = 0\n",
    "        queue = []\n",
    "        queue.append(root)\n",
    "        while queue:\n",
    "            depth += 1\n",
    "            cur = []\n",
    "            for node in queue:\n",
    "#                 print(node.val)\n",
    "                if node.left:\n",
    "                    cur.append(node.left)\n",
    "                if node.right:\n",
    "                    cur.append(node.right)\n",
    "                if not node.left and not node.right:\n",
    "                    return depth\n",
    "            queue = cur\n",
    "            \n",
    "            \n",
    "root1 = TreeNode(3)\n",
    "root1.left = TreeNode(9)\n",
    "root1.right = TreeNode(20)\n",
    "root1.left.left = TreeNode(15)\n",
    "root1.left.right = TreeNode(7)\n",
    "obj = Solution()\n",
    "test1 = obj.minDepth(root1)\n",
    "print(test1)        "
   ]
  },
  {
   "cell_type": "code",
   "execution_count": 26,
   "metadata": {},
   "outputs": [
    {
     "name": "stdout",
     "output_type": "stream",
     "text": [
      "3\n"
     ]
    }
   ],
   "source": [
    "# Definition for a binary tree node.\n",
    "class TreeNode:\n",
    "    def __init__(self, x):\n",
    "        self.val = x\n",
    "        self.left = None\n",
    "        self.right = None\n",
    "\n",
    "class Solution:\n",
    "    def minDepth(self, root: TreeNode) -> int:\n",
    "        if not root:\n",
    "            return 0\n",
    "        if not root.left or not root.right:\n",
    "            return max(self.minDepth(root.left), self.minDepth(root.right)) + 1\n",
    "        return min(self.minDepth(root.left), self.minDepth(root.right)) + 1\n",
    "\n",
    "root1 = TreeNode(3)\n",
    "root1.left = TreeNode(9)\n",
    "root1.right = TreeNode(20)\n",
    "root1.left.left = TreeNode(15)\n",
    "root1.right.right = TreeNode(7)\n",
    "obj = Solution()\n",
    "test2 = obj.minDepth(root1)\n",
    "print(test2)"
   ]
  }
 ],
 "metadata": {
  "kernelspec": {
   "display_name": "Python [default]",
   "language": "python",
   "name": "python3"
  },
  "language_info": {
   "codemirror_mode": {
    "name": "ipython",
    "version": 3
   },
   "file_extension": ".py",
   "mimetype": "text/x-python",
   "name": "python",
   "nbconvert_exporter": "python",
   "pygments_lexer": "ipython3",
   "version": "3.7.0"
  }
 },
 "nbformat": 4,
 "nbformat_minor": 2
}
