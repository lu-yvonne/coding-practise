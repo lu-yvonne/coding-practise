{
 "cells": [
  {
   "cell_type": "code",
   "execution_count": null,
   "metadata": {},
   "outputs": [],
   "source": [
    "# Given a triangle, find the minimum path sum from top to bottom.\n",
    "# Each step you may move to adjacent numbers on the row below.\n",
    "\n",
    "# For example, given the following triangle\n",
    "\n",
    "# [\n",
    "#      [2],\n",
    "#     [3,4],\n",
    "#    [6,5,7],\n",
    "#   [4,1,8,3]\n",
    "# ]\n",
    "# The minimum path sum from top to bottom is 11 (i.e., 2 + 3 + 5 + 1 = 11).\n",
    "\n",
    "# Note:\n",
    "# Bonus point if you are able to do this using only O(n) extra space, \n",
    "# where n is the total number of rows in the triangle."
   ]
  },
  {
   "cell_type": "code",
   "execution_count": 26,
   "metadata": {},
   "outputs": [
    {
     "name": "stdout",
     "output_type": "stream",
     "text": [
      "11\n"
     ]
    }
   ],
   "source": [
    "# 方法：动态规划\n",
    "# DP[i,j] = min(sum path:bottom -> (i,j))\n",
    "# 状态转移方程：DP[i,j] = min(DP[i+1,j],DP[i+1,j+1]) + Triangle[i,j]\n",
    "# 最后一行 DP[m-1,j] = Triangle[m-1,j] \n",
    "# 时间复杂度O(M*N)\n",
    "# 空间复杂度O(M*N)\n",
    "\n",
    "class Solution:\n",
    "    def minimumTotal(self, triangle) :\n",
    "        DP = triangle.copy()\n",
    "        for i in range(len(triangle)-2,-1,-1):\n",
    "            for j in range(len(triangle[i])):\n",
    "                DP[i][j] = min(DP[i+1][j],DP[i+1][j+1]) + triangle[i][j]\n",
    "#                 print(DP[i][j])\n",
    "        return DP[0][0]\n",
    "\n",
    "triangle = [\n",
    "     [2],\n",
    "    [3,4],\n",
    "   [6,5,7],\n",
    "  [4,1,8,3]\n",
    "]                \n",
    "obj = Solution()\n",
    "test1 = obj.minimumTotal(triangle)\n",
    "print(test1)"
   ]
  },
  {
   "cell_type": "code",
   "execution_count": 30,
   "metadata": {},
   "outputs": [
    {
     "name": "stdout",
     "output_type": "stream",
     "text": [
      "11\n"
     ]
    }
   ],
   "source": [
    "# 参考代码\n",
    "class Solution:\n",
    "    def minimumTotal(self, triangle):\n",
    "        if not triangle: \n",
    "            return 0\n",
    "        res = triangle[-1]\n",
    "        for i in range(len(triangle)-2,-1,-1):\n",
    "            for j in range(len(triangle[i])):\n",
    "                res[j] = min(res[j],res[j+1])+triangle[i][j]\n",
    "        return res[0]"
   ]
  }
 ],
 "metadata": {
  "kernelspec": {
   "display_name": "Python [default]",
   "language": "python",
   "name": "python3"
  },
  "language_info": {
   "codemirror_mode": {
    "name": "ipython",
    "version": 3
   },
   "file_extension": ".py",
   "mimetype": "text/x-python",
   "name": "python",
   "nbconvert_exporter": "python",
   "pygments_lexer": "ipython3",
   "version": "3.7.0"
  }
 },
 "nbformat": 4,
 "nbformat_minor": 2
}
