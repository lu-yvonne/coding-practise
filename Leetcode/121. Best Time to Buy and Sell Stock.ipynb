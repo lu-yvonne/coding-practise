{
 "cells": [
  {
   "cell_type": "code",
   "execution_count": null,
   "metadata": {},
   "outputs": [],
   "source": [
    "# Say you have an array for which the ith element is the price of a given stock on day i.\n",
    "# If you were only permitted to complete at most one transaction (i.e., buy one and sell one share of the stock), \n",
    "# design an algorithm to find the maximum profit.\n",
    "\n",
    "# Note that you cannot sell a stock before you buy one.\n",
    "\n",
    "# Example 1:\n",
    "# Input: [7,1,5,3,6,4]\n",
    "# Output: 5\n",
    "# Explanation: Buy on day 2 (price = 1) and sell on day 5 (price = 6), profit = 6-1 = 5.\n",
    "#              Not 7-1 = 6, as selling price needs to be larger than buying price.\n",
    "\n",
    "# Example 2:\n",
    "# Input: [7,6,4,3,1]\n",
    "# Output: 0\n",
    "# Explanation: In this case, no transaction is done, i.e. max profit = 0."
   ]
  },
  {
   "cell_type": "code",
   "execution_count": 11,
   "metadata": {},
   "outputs": [
    {
     "name": "stdout",
     "output_type": "stream",
     "text": [
      "0\n",
      "5\n"
     ]
    }
   ],
   "source": [
    "# 这都能超时？？？？？？？？？？\n",
    "class Solution:\n",
    "    def maxProfit(self, prices):\n",
    "        profit = 0\n",
    "        for i in range(len(prices)-1):\n",
    "            profit = max(profit, max(prices[i+1:])-prices[i])\n",
    "#             print(prices[i],prices[i+1:])\n",
    "        return profit\n",
    "\n",
    "obj = Solution()\n",
    "test1 = obj.maxProfit([7,6,4,3,1])\n",
    "test2 = obj.maxProfit([7,1,5,3,6,4])\n",
    "print(test1)\n",
    "print(test2)"
   ]
  },
  {
   "cell_type": "code",
   "execution_count": 12,
   "metadata": {},
   "outputs": [
    {
     "name": "stdout",
     "output_type": "stream",
     "text": [
      "0\n",
      "5\n"
     ]
    }
   ],
   "source": [
    "# 改进之后\n",
    "# 时间复杂度O(N)\n",
    "class Solution:\n",
    "    def maxProfit(self, prices):\n",
    "        if not prices:\n",
    "            return 0\n",
    "        profit = 0\n",
    "        minp = prices[0]\n",
    "        for i in range(len(prices)):\n",
    "            minp = min(minp,prices[i])\n",
    "            profit = max(profit, prices[i]-minp)\n",
    "#             print(prices[i],prices[i+1:])\n",
    "        return profit\n",
    "\n",
    "obj = Solution()\n",
    "test1 = obj.maxProfit([7,6,4,3,1])\n",
    "test2 = obj.maxProfit([7,1,5,3,6,4])\n",
    "print(test1)\n",
    "print(test2)"
   ]
  },
  {
   "cell_type": "code",
   "execution_count": null,
   "metadata": {},
   "outputs": [],
   "source": []
  }
 ],
 "metadata": {
  "kernelspec": {
   "display_name": "Python [default]",
   "language": "python",
   "name": "python3"
  },
  "language_info": {
   "codemirror_mode": {
    "name": "ipython",
    "version": 3
   },
   "file_extension": ".py",
   "mimetype": "text/x-python",
   "name": "python",
   "nbconvert_exporter": "python",
   "pygments_lexer": "ipython3",
   "version": "3.7.0"
  }
 },
 "nbformat": 4,
 "nbformat_minor": 2
}
