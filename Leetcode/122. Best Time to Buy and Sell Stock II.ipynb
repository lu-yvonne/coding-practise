{
 "cells": [
  {
   "cell_type": "code",
   "execution_count": null,
   "metadata": {},
   "outputs": [],
   "source": [
    "# Say you have an array for which the ith element is the price of a given stock on day i.\n",
    "\n",
    "# Design an algorithm to find the maximum profit. You may complete as many transactions as you like \n",
    "# (i.e., buy one and sell one share of the stock multiple times).\n",
    "\n",
    "# Note: You may not engage in multiple transactions at the same time \n",
    "#     (i.e., you must sell the stock before you buy again).\n",
    "\n",
    "# Example 1:\n",
    "# Input: [7,1,5,3,6,4]\n",
    "# Output: 7\n",
    "# Explanation: Buy on day 2 (price = 1) and sell on day 3 (price = 5), profit = 5-1 = 4.\n",
    "#              Then buy on day 4 (price = 3) and sell on day 5 (price = 6), profit = 6-3 = 3.\n",
    "\n",
    "# Example 2:\n",
    "# Input: [1,2,3,4,5]\n",
    "# Output: 4\n",
    "# Explanation: Buy on day 1 (price = 1) and sell on day 5 (price = 5), profit = 5-1 = 4.\n",
    "#              Note that you cannot buy on day 1, buy on day 2 and sell them later, as you are\n",
    "#              engaging multiple transactions at the same time. You must sell before buying again.\n",
    "\n",
    "# Example 3:\n",
    "# Input: [7,6,4,3,1]\n",
    "# Output: 0\n",
    "# Explanation: In this case, no transaction is done, i.e. max profit = 0."
   ]
  },
  {
   "cell_type": "code",
   "execution_count": null,
   "metadata": {},
   "outputs": [],
   "source": [
    "# 思路\n",
    "# 方法1：\n",
    "# 深度优先搜索DFS，记下每天的每一个操作，1.买股 2.卖股\n",
    "# 时间复杂度：O(2^n)\n",
    "        "
   ]
  },
  {
   "cell_type": "code",
   "execution_count": 7,
   "metadata": {},
   "outputs": [
    {
     "name": "stdout",
     "output_type": "stream",
     "text": [
      "0\n",
      "4\n",
      "7\n"
     ]
    }
   ],
   "source": [
    "# 方法2：\n",
    "# 贪心算法\n",
    "# 如果第二天股价比现在高，则进行买入，第二天卖出\n",
    "# 时间复杂度：O(n)\n",
    "class Solution:\n",
    "    def maxProfit(self, prices):\n",
    "        profit = 0\n",
    "        for i in range(len(prices)-1):\n",
    "            if prices[i+1] > prices[i]:\n",
    "                profit = profit + prices[i+1]-prices[i]\n",
    "        return profit\n",
    "     \n",
    "# TEST\n",
    "obj = Solution()\n",
    "test1 = obj.maxProfit([7,6,4,3,1])\n",
    "test2 = obj.maxProfit([1,2,3,4,5])\n",
    "test3 = obj.maxProfit([7,1,5,3,6,4])\n",
    "print(test1)\n",
    "print(test2)\n",
    "print(test3)"
   ]
  },
  {
   "cell_type": "code",
   "execution_count": null,
   "metadata": {},
   "outputs": [],
   "source": [
    "# 方法3：动态规划\n",
    "# 时间复杂度:O(n)"
   ]
  }
 ],
 "metadata": {
  "kernelspec": {
   "display_name": "Python [default]",
   "language": "python",
   "name": "python3"
  },
  "language_info": {
   "codemirror_mode": {
    "name": "ipython",
    "version": 3
   },
   "file_extension": ".py",
   "mimetype": "text/x-python",
   "name": "python",
   "nbconvert_exporter": "python",
   "pygments_lexer": "ipython3",
   "version": "3.7.0"
  }
 },
 "nbformat": 4,
 "nbformat_minor": 2
}
