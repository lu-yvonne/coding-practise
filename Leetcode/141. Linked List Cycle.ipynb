{
 "cells": [
  {
   "cell_type": "markdown",
   "metadata": {},
   "source": [
    "Given a linked list, determine if it has a cycle in it.\n",
    "\n",
    "To represent a cycle in the given linked list, we use an integer pos which represents the position (0-indexed) in the linked list where tail connects to. If pos is -1, then there is no cycle in the linked list."
   ]
  },
  {
   "attachments": {
    "image.png": {
     "image/png": "[encoded data removed]"
    }
   },
   "cell_type": "markdown",
   "metadata": {},
   "source": [
    "Example 1:\n",
    "\n",
    "Input: head = [3,2,0,-4], pos = 1\n",
    "<br>Output: true\n",
    "<br>Explanation: There is a cycle in the linked list, where tail connects to the second node.\n",
    "![image.png](attachment:image.png)"
   ]
  },
  {
   "cell_type": "code",
   "execution_count": null,
   "metadata": {},
   "outputs": [],
   "source": [
    "# 方法1： \n",
    "# 暴力求解\n",
    "# 看head.next.next...无穷的next走下去能不能走到None,如果能，则是无环，如果不能，则是有环\n",
    "# Definition for singly-linked list.\n",
    "# class ListNode(object):\n",
    "#     def __init__(self, x):\n",
    "#         self.val = x\n",
    "#         self.next = None\n",
    "\n",
    "class Solution(object):\n",
    "    def hasCycle(self, head):\n",
    "        \"\"\"\n",
    "        :type head: ListNode\n",
    "        :rtype: bool\n",
    "        \"\"\"\n",
    "#         while head:\n",
    "#             if not head.next:\n",
    "#                 return False\n",
    "#             head = head.next\n",
    "#         return True\n",
    "    \n",
    "        while head and head.val != None: \n",
    "            head.val, head = None,head.next\n",
    "        return head != None\n",
    "        "
   ]
  },
  {
   "cell_type": "code",
   "execution_count": null,
   "metadata": {},
   "outputs": [],
   "source": [
    "# 方法2:\n",
    "#     利用set进行判重\n",
    "#     a set is a data type that does not accept duplicates\n",
    "#     将走过的节点的地址存在一个set里，每到一个新节点，就去set里面查找，如果有，就有环。\n",
    "#     时间复杂度：O(n*1) (要把所有的节点走一遍*每次进行查找)\n",
    "#     空间复杂度：O(n)?\n",
    "\n",
    "class Solution(object):\n",
    "    def hasCycle(self, head):\n",
    "        Nodes = set()\n",
    "        while head:\n",
    "            if head in Nodes:\n",
    "                return True\n",
    "            else:\n",
    "                Nodes.add(head)\n",
    "            head = head.next\n",
    "        return False"
   ]
  },
  {
   "cell_type": "code",
   "execution_count": null,
   "metadata": {},
   "outputs": [],
   "source": [
    "# 方法3:\n",
    "#     快慢指针\n",
    "#     快指针每次走2步，慢指针每次走一步，最后判断快慢指针是否会相遇，如果会相遇，则有环\n",
    "#     时间复杂度：O(n) （要把所有的节点走一遍）\n",
    "#     空间复杂度:O(1)\n",
    "\n",
    "class Solution(object):\n",
    "    def hasCycle(self, head):\n",
    "        fast, slow = head, head\n",
    "        while slow and fast and fast.next:\n",
    "            slow = slow.next\n",
    "            fast = fast.next.next\n",
    "            if slow is fast:\n",
    "                return True\n",
    "        return False"
   ]
  }
 ],
 "metadata": {
  "kernelspec": {
   "display_name": "Python [default]",
   "language": "python",
   "name": "python3"
  },
  "language_info": {
   "codemirror_mode": {
    "name": "ipython",
    "version": 3
   },
   "file_extension": ".py",
   "mimetype": "text/x-python",
   "name": "python",
   "nbconvert_exporter": "python",
   "pygments_lexer": "ipython3",
   "version": "3.7.0"
  }
 },
 "nbformat": 4,
 "nbformat_minor": 2
}
