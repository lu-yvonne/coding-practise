{
 "cells": [
  {
   "cell_type": "code",
   "execution_count": null,
   "metadata": {},
   "outputs": [],
   "source": [
    "# Given an array nums of n integers, are there elements a, b, c in nums such that a + b + c = 0? \n",
    "# Find all unique triplets in the array which gives the sum of zero.\n",
    "\n",
    "# Note:\n",
    "# The solution set must not contain duplicate triplets.\n",
    "\n",
    "# Example:\n",
    "# Given array nums = [-1, 0, 1, 2, -1, -4],\n",
    "\n",
    "# A solution set is:\n",
    "# [\n",
    "#   [-1, 0, 1],\n",
    "#   [-1, -1, 2]\n",
    "# ]"
   ]
  },
  {
   "cell_type": "code",
   "execution_count": 44,
   "metadata": {},
   "outputs": [
    {
     "name": "stdout",
     "output_type": "stream",
     "text": [
      "[[-1, 0, 1], [-1, -1, 2]]\n"
     ]
    }
   ],
   "source": [
    "# 思路\n",
    "# 方法1：暴力求解\n",
    "# 嵌套循环a,b,c\n",
    "# 时间复杂度：O(n^3)\n",
    "\n",
    "class Solution:\n",
    "    def threeSum(self, nums):\n",
    "        res = []\n",
    "        for i,a in enumerate(nums):\n",
    "            for j,b in enumerate(nums[i + 1:]):# 注意j也是从0开始\n",
    "                for k,c in enumerate(nums[i + j + 2:]): # 所以这里的长度起始点是i+1+j+1\n",
    "                    tmp = sorted([a,b,c])\n",
    "                    if a+b+c == 0 and tmp not in res:\n",
    "                        res.append(tmp)\n",
    "        return res\n",
    "    \n",
    "    \n",
    "l1 = Solution()\n",
    "test1 = l1.threeSum([-1, 0, 1, 2, -1, -4])\n",
    "print(test1)\n",
    "\n",
    "# 可以跑出结果，但是在LeetCode中超时"
   ]
  },
  {
   "cell_type": "code",
   "execution_count": 45,
   "metadata": {},
   "outputs": [
    {
     "name": "stdout",
     "output_type": "stream",
     "text": [
      "{5: 1, 4: 1, 3: 1, 2: 1}\n",
      "{2: 1, 1: 1}\n",
      "{-1: 1, -2: 1}\n",
      "[[-1, -1, 2], [-1, 0, 1]]\n"
     ]
    }
   ],
   "source": [
    "# 方法2：set\n",
    "# 将整个数组放进一个set里（set，没有重复元素）\n",
    "# 循环a,b之后，查看c=-(a,b)在不在这个set里\n",
    "# 时间复杂度：O(N^1)*O(1)=O(N^2)\n",
    "# 空间复杂度O(n)\n",
    "\n",
    "class Solution:\n",
    "    def threeSum(self, nums):\n",
    "        if len(nums) < 3:\n",
    "            return []\n",
    "        res = set()\n",
    "        nums = sorted(nums) # 这一步是为了提高后期匹配的效率\n",
    "        for i, a in enumerate(nums[:-2]):\n",
    "#             print(i,nums[i-1],a)\n",
    "            if i>= 1 and a == nums[i-1]: # 如果后一个元素和前一个元素相同，\n",
    "#                                          没有必要进行，因为得出的结果和上一个数一定相同\n",
    "                continue\n",
    "            d = {}\n",
    "            for b in nums[i+1:]:\n",
    "                if b not in d: # 如果b在\n",
    "                    d[-a-b] = 1\n",
    "                else:\n",
    "                    res.add((a,-a-b,b)) #是()不是[]\n",
    "            print(d)\n",
    "                    \n",
    "        return list(map(list,res))\n",
    "    \n",
    "l2 = Solution()\n",
    "test2 = l2.threeSum([-1, 0, 1, 2, -1, -4])\n",
    "print(test2)"
   ]
  },
  {
   "cell_type": "code",
   "execution_count": null,
   "metadata": {},
   "outputs": [],
   "source": [
    "# 方法3：\n",
    "# 先将整个数组进行排序\n",
    "# loop a\n",
    "# 枚举b从a的后一位开始，c从最后一位开始\n",
    "# 如果a+b+c>0，c往前移\n",
    "# 如果a+b+c<0, b往后移动\n",
    "# 一直到b,c相遇，看是否存在=0的情况\n",
    "# 时间复杂度O(n^2)\n",
    "# 空间复杂度比用set小"
   ]
  }
 ],
 "metadata": {
  "kernelspec": {
   "display_name": "Python [default]",
   "language": "python",
   "name": "python3"
  },
  "language_info": {
   "codemirror_mode": {
    "name": "ipython",
    "version": 3
   },
   "file_extension": ".py",
   "mimetype": "text/x-python",
   "name": "python",
   "nbconvert_exporter": "python",
   "pygments_lexer": "ipython3",
   "version": "3.7.0"
  }
 },
 "nbformat": 4,
 "nbformat_minor": 2
}
