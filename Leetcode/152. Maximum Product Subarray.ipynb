{
 "cells": [
  {
   "cell_type": "code",
   "execution_count": null,
   "metadata": {},
   "outputs": [],
   "source": [
    "# Given an integer array nums, find the contiguous subarray within an array (containing at least one number) \n",
    "# which has the largest product.\n",
    "\n",
    "# Example 1:\n",
    "# Input: [2,3,-2,4]\n",
    "# Output: 6\n",
    "# Explanation: [2,3] has the largest product 6.\n",
    "\n",
    "# Example 2:\n",
    "# Input: [-2,0,-1]\n",
    "# Output: 0\n",
    "# Explanation: The result cannot be 2, because [-2,-1] is not a subarray."
   ]
  },
  {
   "cell_type": "code",
   "execution_count": 14,
   "metadata": {},
   "outputs": [
    {
     "name": "stdout",
     "output_type": "stream",
     "text": [
      "6\n"
     ]
    }
   ],
   "source": [
    "# 思路：动态规划\n",
    "# 自己写的…是可以，但超时\n",
    "class Solution:\n",
    "    def maxProduct(self, nums):\n",
    "        DP = [[] for i in range(len(nums))]\n",
    "#         print(DP)\n",
    "        for j in range(len(nums)):\n",
    "            DP[0].append(nums[j])\n",
    "        for i in range(1,len(nums)):\n",
    "            for j in range(len(nums)-i):\n",
    "                DP[i].append(DP[i-1][j] * DP[0][i+j])\n",
    "        res = eval('['+str(DP).replace(' ','').replace('[','').replace(']','')+']')\n",
    "        return max(res)\n",
    "    \n",
    "nums =  [2,3,-2,4]     \n",
    "obj = Solution()\n",
    "test1 = obj.maxProduct(nums)\n",
    "print(test1)"
   ]
  },
  {
   "cell_type": "code",
   "execution_count": 13,
   "metadata": {},
   "outputs": [
    {
     "name": "stdout",
     "output_type": "stream",
     "text": [
      "6\n"
     ]
    }
   ],
   "source": [
    "# 方法2：暴力 recursion"
   ]
  },
  {
   "cell_type": "code",
   "execution_count": 32,
   "metadata": {},
   "outputs": [
    {
     "name": "stdout",
     "output_type": "stream",
     "text": [
      "6\n"
     ]
    }
   ],
   "source": [
    "# 方法3：DP\n",
    "# 状态：DP[i][j] i从0到range(nums)，j为0或1\n",
    "# DP[i][0]表示从0到i这个数的所有子数组的乘积最大值\n",
    "# DP[i][0]表示从0到j这个数的所有子数组的乘积最小值(-MAX)\n",
    "# 状态转移方程：\n",
    "# if nums[i] >= 0, DP[i][0] = max(DP[i-1][0]*nums[i],nums[i]), DP[i][1] = min(DP[i-1][1]*nums[i],nums[i])\n",
    "# if nums[i] < 0, DP[i][0] = max(DP[i-1][1]*nums[i],nums[i]), DP[i][1] = min(DP[i-1][0]*nums[i],nums[i])\n",
    "# 最后求maxDP[i][0]\n",
    "\n",
    "class Solution:\n",
    "    def maxProduct(self, nums): \n",
    "        DP = [[0 for _ in range(2)] for _ in range(len(nums))]\n",
    "        DP[0][0] = nums[0]\n",
    "        DP[0][1] = nums[0]\n",
    "        res = nums[0]\n",
    "#         print(DP)\n",
    "        for i in range(1,len(nums)):\n",
    "            if nums[i] >= 0:\n",
    "                DP[i][0] = max(DP[i-1][0]*nums[i],nums[i])\n",
    "                DP[i][1] = min(DP[i-1][1]*nums[i],nums[i])\n",
    "            else:\n",
    "                DP[i][0] = max(DP[i-1][1]*nums[i],nums[i])\n",
    "                DP[i][1] = min(DP[i-1][0]*nums[i],nums[i])\n",
    "            res = max(DP[i][0],res)\n",
    "#         print(DP)\n",
    "        return res\n",
    "\n",
    "nums =  [2,3,-2,4]     \n",
    "obj = Solution()\n",
    "test2 = obj.maxProduct(nums)\n",
    "print(test2)\n",
    "# print(DP)"
   ]
  },
  {
   "cell_type": "code",
   "execution_count": 33,
   "metadata": {},
   "outputs": [
    {
     "name": "stdout",
     "output_type": "stream",
     "text": [
      "6\n"
     ]
    }
   ],
   "source": [
    "# 参考代码\n",
    "# 可读性稍弱， 但泛化能力强\n",
    "class Solution:\n",
    "    def maxProduct(self, nums): \n",
    "        if nums is None: return 0\n",
    "        DP = [[0 for _ in range(2)] for _ in range(2)] # 因为每次只需要前一次递推的结果，所以2维足够\n",
    "        DP[0][0], DP[0][1], res = nums[0], nums[0], nums[0]\n",
    "        for i in range(1,len(nums)): \n",
    "            x, y = i%2, (i-1)%2 # 分成奇偶\n",
    "            DP[x][0] = max(DP[y][0]*nums[i],DP[y][1]*nums[i],nums[i])\n",
    "            DP[x][1] = min(DP[y][0]*nums[i],DP[y][1]*nums[i],nums[i])\n",
    "            res = max(DP[x][0],res)\n",
    "        return res\n",
    "    \n",
    "# nums =  [2,3,-2,4]     \n",
    "# obj = Solution()\n",
    "# test3 = obj.maxProduct(nums)\n",
    "# print(test3)"
   ]
  },
  {
   "cell_type": "code",
   "execution_count": 34,
   "metadata": {},
   "outputs": [
    {
     "name": "stdout",
     "output_type": "stream",
     "text": [
      "6\n"
     ]
    }
   ],
   "source": [
    "# 参考代码\n",
    "# 可读性强，但泛化能力弱\n",
    "class Solution:\n",
    "    def maxProduct(self, nums): \n",
    "        if nums is None: return 0\n",
    "        curMax, curMin, res = nums[0], nums[0], nums[0]\n",
    "        for i in range(1,len(nums)): \n",
    "            num = nums[i]\n",
    "            curMax, curMin = curMax*num, curMin*num\n",
    "            curMax, curMin = max(curMax, curMin, num), min(curMax,curMin, num)\n",
    "            res = max(curMax,res)\n",
    "        return res\n",
    "\n",
    "# nums =  [2,3,-2,4]     \n",
    "# obj = Solution()\n",
    "# test4 = obj.maxProduct(nums)\n",
    "# print(test4)"
   ]
  }
 ],
 "metadata": {
  "kernelspec": {
   "display_name": "Python [default]",
   "language": "python",
   "name": "python3"
  },
  "language_info": {
   "codemirror_mode": {
    "name": "ipython",
    "version": 3
   },
   "file_extension": ".py",
   "mimetype": "text/x-python",
   "name": "python",
   "nbconvert_exporter": "python",
   "pygments_lexer": "ipython3",
   "version": "3.7.0"
  }
 },
 "nbformat": 4,
 "nbformat_minor": 2
}
