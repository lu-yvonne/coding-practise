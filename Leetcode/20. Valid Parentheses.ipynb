{
 "cells": [
  {
   "cell_type": "markdown",
   "metadata": {},
   "source": [
    "Given a string containing just the characters '(', ')', '{', '}', '[' and ']', determine if the input string is valid.\n",
    "\n",
    "An input string is valid if:\n",
    "\n",
    "<br>Open brackets must be closed by the same type of brackets.\n",
    "<br>Open brackets must be closed in the correct order.\n",
    "<br>Note that an empty string is also considered valid.\n",
    "\n",
    "\n",
    "<br>Example 1:\n",
    "<br>Input: \"()\"\n",
    "<br>Output: true\n",
    "\n",
    "Example 2:\n",
    "<br>Input: \"()[]{}\"\n",
    "<br>Output: true\n",
    "\n",
    "Example 3:\n",
    "<br>Input: \"(]\"\n",
    "<br>Output: false"
   ]
  },
  {
   "cell_type": "code",
   "execution_count": null,
   "metadata": {},
   "outputs": [],
   "source": [
    "# 思路\n",
    "# 利用栈的特点，将str中的元素一个个压入栈，\n",
    "# 首先如果最先进站元素是右括号，则return false\n",
    "# 其次如果进栈元素和栈顶元素出现不匹配，则return false\n",
    "# 然后进栈元素如果能和栈顶元素匹配，则一起出栈，最后如果栈里元素为空，则return true\n",
    "\n",
    "# 时间复杂度：\n",
    "# O(1)*n = O(n)\n",
    "# 空间复杂度:\n",
    "# 最高：O(n)\n",
    "\n",
    "# 特别注意\n",
    "# 可以先构造一个map字典将括号的对应关系储存起来\n",
    "# 注意这里的map从右括号开始，这样左括号能够一直都先压进栈\n",
    "def isValid(self, s: str) -> bool:\n",
    "    stack = []\n",
    "    parent_map = {')':'(', ']':'[', '}':'{'}\n",
    "    for c in s:\n",
    "        if c not in parent_map: #如果首先出现了左括号，压入栈\n",
    "            stack.append(c)\n",
    "        # 然后在出现右括号的情况下，如果栈里没有元素，或者栈顶元素不能和它匹配，return false\n",
    "        # 注意stack.pop()是将栈顶元素弹出，如果匹配，栈顶元素也已经弹出\n",
    "        elif not stack or parent_map[c] != stack.pop(): \n",
    "            return False\n",
    "    return not stack # 判断stack是否为空，为空返回true，不为空返回false\n"
   ]
  },
  {
   "cell_type": "code",
   "execution_count": null,
   "metadata": {},
   "outputs": [],
   "source": [
    "# 方法2：\n",
    "# 如果存在左右匹配的括号则消掉，然后再重复这个过程\n",
    "# 但问题在于时间复杂度太高，平均时间复杂度O(n^2/2)\n",
    "\n",
    "def isValid(self, s: str) -> bool:\n",
    "    length = None\n",
    "    while length != len(s):\n",
    "        length = len(s)\n",
    "        s = s.replace('()','').replace('[]','').replace('{}','')\n",
    "    return length == 0"
   ]
  }
 ],
 "metadata": {
  "kernelspec": {
   "display_name": "Python [default]",
   "language": "python",
   "name": "python3"
  },
  "language_info": {
   "codemirror_mode": {
    "name": "ipython",
    "version": 3
   },
   "file_extension": ".py",
   "mimetype": "text/x-python",
   "name": "python",
   "nbconvert_exporter": "python",
   "pygments_lexer": "ipython3",
   "version": "3.7.0"
  }
 },
 "nbformat": 4,
 "nbformat_minor": 2
}
