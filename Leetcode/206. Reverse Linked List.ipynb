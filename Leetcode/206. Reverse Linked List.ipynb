{
 "cells": [
  {
   "cell_type": "markdown",
   "metadata": {},
   "source": [
    "Input: 1->2->3->4->5->NULL\n",
    "\n",
    "Output: 5->4->3->2->1->NULL"
   ]
  },
  {
   "cell_type": "code",
   "execution_count": null,
   "metadata": {},
   "outputs": [],
   "source": [
    "# 思路：把当前节点的next指到他的前驱节点即可\n",
    "class Solution:\n",
    "    def reverseList(self, head: ListNode) -> ListNode:\n",
    "        # 需要两个指针来记录，一个记录当前节点，另一个记录前面的节点\n",
    "        cur, pre = head, None # 当前节点是cur（current）， 之前的是pre（previous）\n",
    "        while cur: # 循环直到链表结束\n",
    "            cur.next, pre, cur = pre, cur, cur.next\n",
    "        return pre\n",
    "# 最后返回新的头引用"
   ]
  },
  {
   "cell_type": "markdown",
   "metadata": {},
   "source": [
    "补充：需要把反转链表需要的常用语句记住"
   ]
  }
 ],
 "metadata": {
  "kernelspec": {
   "display_name": "Python [default]",
   "language": "python",
   "name": "python3"
  },
  "language_info": {
   "codemirror_mode": {
    "name": "ipython",
    "version": 3
   },
   "file_extension": ".py",
   "mimetype": "text/x-python",
   "name": "python",
   "nbconvert_exporter": "python",
   "pygments_lexer": "ipython3",
   "version": "3.7.0"
  }
 },
 "nbformat": 4,
 "nbformat_minor": 2
}
