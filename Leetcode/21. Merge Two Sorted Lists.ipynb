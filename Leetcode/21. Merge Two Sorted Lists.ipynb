{
 "cells": [
  {
   "cell_type": "code",
   "execution_count": null,
   "metadata": {},
   "outputs": [],
   "source": [
    "# Merge two sorted linked lists and return it as a new list.\n",
    "# The new list should be made by splicing together the nodes of the first two lists.\n",
    "\n",
    "# Example:\n",
    "\n",
    "# Input: 1->2->4, 1->3->4\n",
    "# Output: 1->1->2->3->4->4"
   ]
  },
  {
   "cell_type": "code",
   "execution_count": 28,
   "metadata": {},
   "outputs": [
    {
     "name": "stdout",
     "output_type": "stream",
     "text": [
      "[1, 1, 2, 3, 4, 4]\n"
     ]
    }
   ],
   "source": [
    "# 思路\n",
    "# 用一个新链表\n",
    "# 直接自己定义一个链表的头，循环两个链表，每次把两个链表头部值较小的那个节点放到结尾。\n",
    "# 如果最后有个链表没有循环完，应该把剩下的链表拼接上\n",
    "# 时间复杂度：O(n)，空间复杂度O(1)\n",
    "\n",
    "# Definition for singly-linked list.\n",
    "# class ListNode:\n",
    "#     def __init__(self, x):\n",
    "#         self.val = x\n",
    "#         self.next = None\n",
    "\n",
    "class Solution:\n",
    "    def mergeTwoLists(self, l1: ListNode, l2: ListNode) -> ListNode:\n",
    "        if not l1:\n",
    "            return l2\n",
    "        elif not l2:\n",
    "            return l1\n",
    "        head = ListNode(0)\n",
    "        tmp = head\n",
    "        while l1 and l2:\n",
    "            if l1.val > l2.val:\n",
    "                tmp.next = l2\n",
    "                l2 = l2.next\n",
    "            else:\n",
    "                tmp.next = l1\n",
    "                l1 = l1.next\n",
    "            tmp = tmp.next\n",
    "        if l1:\n",
    "            tmp.next = l1\n",
    "        else:\n",
    "            tmp.next = l2\n",
    "        return head.next\n",
    "\n",
    "# TEST\n",
    "l1 = ListNode(1)\n",
    "l1.next = ListNode(2)\n",
    "l1.next.next = ListNode(4)\n",
    "l2 = ListNode(1)\n",
    "l2.next = ListNode(3)\n",
    "l2.next.next = ListNode(4)\n",
    "obj1 = Solution()\n",
    "test1 = obj1.mergeTwoLists(l1,l2)\n",
    "res1 = []\n",
    "while test1:\n",
    "    res1.append(test1.val)\n",
    "    test1 = test1.next\n",
    "print(res1)\n",
    "# test1.val"
   ]
  },
  {
   "cell_type": "code",
   "execution_count": 27,
   "metadata": {},
   "outputs": [
    {
     "name": "stdout",
     "output_type": "stream",
     "text": [
      "[1, 1, 2, 3, 4, 4]\n"
     ]
    }
   ],
   "source": [
    "# 递归写法\n",
    "# 用两个链表互相修改next\n",
    "class ListNode:\n",
    "    def __init__(self, x):\n",
    "        self.val = x\n",
    "        self.next = None\n",
    "class Solution:\n",
    "    def mergeTwoLists(self, l1: ListNode, l2: ListNode) -> ListNode:\n",
    "        if not l1:\n",
    "            return l2\n",
    "        elif not l2:\n",
    "            return l1\n",
    "        if l1.val < l2.val:\n",
    "            l1.next = self.mergeTwoLists(l1.next, l2)\n",
    "            return l1\n",
    "        else:\n",
    "            l2.next = self.mergeTwoLists(l1, l2.next)\n",
    "            return l2\n",
    "\n",
    "# TEST\n",
    "l1 = ListNode(1)\n",
    "l1.next = ListNode(2)\n",
    "l1.next.next = ListNode(4)\n",
    "l2 = ListNode(1)\n",
    "l2.next = ListNode(3)\n",
    "l2.next.next = ListNode(4)\n",
    "obj1 = Solution()\n",
    "test1 = obj1.mergeTwoLists(l1,l2)\n",
    "res1 = []\n",
    "while test1:\n",
    "    res1.append(test1.val)\n",
    "    test1 = test1.next\n",
    "print(res1)\n",
    "# test1.val"
   ]
  }
 ],
 "metadata": {
  "kernelspec": {
   "display_name": "Python [default]",
   "language": "python",
   "name": "python3"
  },
  "language_info": {
   "codemirror_mode": {
    "name": "ipython",
    "version": 3
   },
   "file_extension": ".py",
   "mimetype": "text/x-python",
   "name": "python",
   "nbconvert_exporter": "python",
   "pygments_lexer": "ipython3",
   "version": "3.7.0"
  }
 },
 "nbformat": 4,
 "nbformat_minor": 2
}
