{
 "cells": [
  {
   "cell_type": "code",
   "execution_count": null,
   "metadata": {},
   "outputs": [],
   "source": [
    "# Given n pairs of parentheses, write a function to generate all combinations of well-formed parentheses.\n",
    "\n",
    "# For example, given n = 3, a solution set is:\n",
    "\n",
    "# [\n",
    "#   \"((()))\",\n",
    "#   \"(()())\",\n",
    "#   \"(())()\",\n",
    "#   \"()(())\",\n",
    "#   \"()()()\"\n",
    "# ]"
   ]
  },
  {
   "cell_type": "code",
   "execution_count": 1,
   "metadata": {},
   "outputs": [
    {
     "name": "stdout",
     "output_type": "stream",
     "text": [
      "['((()))', '(()())', '(())()', '()(())', '()()()']\n"
     ]
    }
   ],
   "source": [
    "# 思路：递归\n",
    "class Solution:\n",
    "    def generateParenthesis(self, n):\n",
    "        self.list = []\n",
    "        self._gen(0, 0, n, \"\")\n",
    "        return self.list\n",
    "    \n",
    "    def _gen(self, left, right, n, res):\n",
    "        if left == n and right == n:\n",
    "            self.list.append(res)\n",
    "            return \n",
    "        if left < n:\n",
    "            self._gen(left+1, right, n, res + \"(\")\n",
    "        if left >  right and right < n:\n",
    "            self._gen(left, right+1, n, res + \")\")\n",
    "            \n",
    "            \n",
    "obj = Solution()\n",
    "test1 = obj.generateParenthesis(3)\n",
    "print(test1)\n",
    "     "
   ]
  }
 ],
 "metadata": {
  "kernelspec": {
   "display_name": "Python [default]",
   "language": "python",
   "name": "python3"
  },
  "language_info": {
   "codemirror_mode": {
    "name": "ipython",
    "version": 3
   },
   "file_extension": ".py",
   "mimetype": "text/x-python",
   "name": "python",
   "nbconvert_exporter": "python",
   "pygments_lexer": "ipython3",
   "version": "3.7.0"
  }
 },
 "nbformat": 4,
 "nbformat_minor": 2
}
