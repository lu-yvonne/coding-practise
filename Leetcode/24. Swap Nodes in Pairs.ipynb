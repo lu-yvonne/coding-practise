{
 "cells": [
  {
   "cell_type": "markdown",
   "metadata": {},
   "source": [
    "Given a linked list, swap every two adjacent nodes and return its head.\n",
    "<br>给定链表，交换每两个相邻节点并返回其头部。\n",
    "\n",
    "You may not modify the values in the list's nodes, only nodes itself may be changed.\n",
    "\n",
    " \n",
    "\n",
    "Example:\n",
    "\n",
    "Given 1->2->3->4, you should return the list as 2->1->4->3."
   ]
  },
  {
   "cell_type": "code",
   "execution_count": null,
   "metadata": {},
   "outputs": [],
   "source": [
    "# Definition for singly-linked list.\n",
    "# class ListNode:\n",
    "#     def __init__(self, x):\n",
    "#         self.val = x\n",
    "#         self.next = None\n",
    "\n",
    "class Solution:\n",
    "    def swapPairs(self, head: ListNode) -> ListNode:\n",
    "#         思路：建立四个节点 pre, a, b  c（c也可以不写出来，一直写成b.next）\n",
    "#          pre     a      b      c\n",
    "#           h  ->  1  ->  2  ->  3  ->  4\n",
    "# 目标状态：h  ->  2  ->  1  ->  3  ->  4\n",
    "# 首先赋值：h = ListNode(-1)\n",
    "#           h.next = head\n",
    "#           pre = h\n",
    "#           a = pre.next\n",
    "#           b = a.next\n",
    "#           c = b.next\n",
    "# 更新状态：pre.next = b\n",
    "#           b.next = a\n",
    "#           a.next = c \n",
    "# 进行下一次更换： pre = a\n",
    "                \n",
    "        h = ListNode(-1)\n",
    "#         因为链表没有头结点，所以自己生成的头结点，-1没任何意义，头结点->next返回第一个节点（head)\n",
    "        h.next = head\n",
    "        pre = h\n",
    "#         pre, pre.next = h, head\n",
    "        while pre.next and pre.next.next:\n",
    "            a = pre.next\n",
    "            b = a.next\n",
    "            c = b.next\n",
    "            \n",
    "            pre.next = b\n",
    "            b.next = a\n",
    "            a.next = c\n",
    "#             pre.next, b.next, a.next = b, a ,b.next # 注意赋值顺序\n",
    "            pre = a\n",
    "        return h.next"
   ]
  },
  {
   "cell_type": "code",
   "execution_count": null,
   "metadata": {},
   "outputs": [],
   "source": []
  }
 ],
 "metadata": {
  "kernelspec": {
   "display_name": "Python [default]",
   "language": "python",
   "name": "python3"
  },
  "language_info": {
   "codemirror_mode": {
    "name": "ipython",
    "version": 3
   },
   "file_extension": ".py",
   "mimetype": "text/x-python",
   "name": "python",
   "nbconvert_exporter": "python",
   "pygments_lexer": "ipython3",
   "version": "3.7.0"
  }
 },
 "nbformat": 4,
 "nbformat_minor": 2
}
