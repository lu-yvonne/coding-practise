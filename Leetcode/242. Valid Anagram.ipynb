{
 "cells": [
  {
   "cell_type": "code",
   "execution_count": null,
   "metadata": {},
   "outputs": [],
   "source": [
    "# Given two strings s and t , write a function to determine if t is an anagram of s.\n",
    "\n",
    "# Example 1:\n",
    "# Input: s = \"anagram\", t = \"nagaram\"\n",
    "# Output: true\n",
    "\n",
    "# Example 2:\n",
    "# Input: s = \"rat\", t = \"car\"\n",
    "# Output: false\n",
    "# Note:\n",
    "# You may assume the string contains only lowercase alphabets.\n",
    "\n",
    "# Follow up:\n",
    "# What if the inputs contain unicode characters? How would you adapt your solution to such case?"
   ]
  },
  {
   "cell_type": "code",
   "execution_count": null,
   "metadata": {},
   "outputs": [],
   "source": [
    "# 方法1：\n",
    "# sort，进行排序，如果两个排完序的字符串完全相同，则是Anagram\n",
    "# 时间复杂度：O(NlogN)\n",
    "\n",
    "class Solution:\n",
    "    def isAnagram(self, s: str, t: str) -> bool:\n",
    "        return sorted(s) == sorted(t)\n",
    "        "
   ]
  },
  {
   "cell_type": "code",
   "execution_count": null,
   "metadata": {},
   "outputs": [],
   "source": [
    "# 方法2：\n",
    "# 数这个字符串中每一个字母出现的个数，用Map来进行计数{letter:count}\n",
    "# 比如cat，{c:1,a:1,t:1},然后比较两个map是否相同\n",
    "# 时间复杂度：O(N*1) 循环是O(N),map的插入、查找都是O(1)\n",
    "\n",
    "def isAnagram(self, s: str, t: str) -> bool:\n",
    "    dic1 = {}\n",
    "    dic2 = {}\n",
    "    for item in s:\n",
    "        dic1[item] = dic1.get(item,0)+1\n",
    "    for item in t:\n",
    "        dic2[item] = dic2.get(item,0)+1\n",
    "    return dic1 == dic2\n",
    "    \n",
    "# 不用map实现\n",
    "# 这种写法本质也是哈希表，只是是自己手建的\n",
    "def isAnagram(self, s: str, t: str) -> bool:\n",
    "    dic1,dic2 = [0]*26, [0]*26\n",
    "    for item in s:\n",
    "        dic1[ord(item)-ord('a')] += 1 # ord 得到ascii码\n",
    "    for item in t:\n",
    "        dic2[ord(item)-ord('a')] += 1\n",
    "    return dic1 == dic2\n"
   ]
  }
 ],
 "metadata": {
  "kernelspec": {
   "display_name": "Python [default]",
   "language": "python",
   "name": "python3"
  },
  "language_info": {
   "codemirror_mode": {
    "name": "ipython",
    "version": 3
   },
   "file_extension": ".py",
   "mimetype": "text/x-python",
   "name": "python",
   "nbconvert_exporter": "python",
   "pygments_lexer": "ipython3",
   "version": "3.7.0"
  }
 },
 "nbformat": 4,
 "nbformat_minor": 2
}
