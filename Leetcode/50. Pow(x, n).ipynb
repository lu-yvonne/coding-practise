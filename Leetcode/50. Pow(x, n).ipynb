{
 "cells": [
  {
   "cell_type": "code",
   "execution_count": null,
   "metadata": {},
   "outputs": [],
   "source": [
    "# Implement pow(x, n), which calculates x raised to the power n (xn).\n",
    "\n",
    "# Example 1:\n",
    "\n",
    "# Input: 2.00000, 10\n",
    "# Output: 1024.00000\n",
    "# Example 2:\n",
    "\n",
    "# Input: 2.10000, 3\n",
    "# Output: 9.26100\n",
    "# Example 3:\n",
    "\n",
    "# Input: 2.00000, -2\n",
    "# Output: 0.25000\n",
    "# Explanation: 2-2 = 1/22 = 1/4 = 0.25\n",
    "# Note:\n",
    "\n",
    "# -100.0 < x < 100.0\n",
    "# n is a 32-bit signed integer, within the range [−231, 231 − 1]"
   ]
  },
  {
   "cell_type": "code",
   "execution_count": null,
   "metadata": {},
   "outputs": [],
   "source": [
    "# 方法1：\n",
    "# 直接调包（调库函数）\n",
    "# O(1)"
   ]
  },
  {
   "cell_type": "code",
   "execution_count": null,
   "metadata": {},
   "outputs": [],
   "source": [
    "# 方法2：\n",
    "# 暴力\n",
    "# O(N)"
   ]
  },
  {
   "cell_type": "code",
   "execution_count": 4,
   "metadata": {},
   "outputs": [
    {
     "name": "stdout",
     "output_type": "stream",
     "text": [
      "1024.0\n"
     ]
    }
   ],
   "source": [
    "# 方法3：\n",
    "# 1. n为偶数：y = x^[n/2], result  = y * y\n",
    "# 2. n是奇数，y = x^[n/2], result  = y * y * x\n",
    "# x^n -> x^(n/2) -> x^(n/4) ->...-> x^1 or x^0\n",
    "# 时间复杂度：O(logN)\n",
    "\n",
    "class Solution:\n",
    "    def myPow(self, x: float, n: int) -> float:\n",
    "        if not n:\n",
    "            return 1\n",
    "        if n % 2 == 0:\n",
    "            y = self.myPow(x, n/2)\n",
    "            return y*y\n",
    "        if n < 0:\n",
    "            return 1 / self.myPow(x, -n)\n",
    "        else:\n",
    "            y = self.myPow(x, int(n/2))\n",
    "            return y*y*x\n",
    "        \n",
    "obj = Solution()\n",
    "test1 = obj.myPow(2.00000, 10)\n",
    "print(test1)"
   ]
  },
  {
   "cell_type": "code",
   "execution_count": 2,
   "metadata": {},
   "outputs": [
    {
     "name": "stdout",
     "output_type": "stream",
     "text": [
      "1024\n"
     ]
    }
   ],
   "source": [
    "# 方法3：非递归形式\n",
    "# 利用位运算\n",
    "def myPow(x,n):\n",
    "    if n < 0:\n",
    "        x = 1/x\n",
    "        n = -n\n",
    "    pow = 1\n",
    "    while n:\n",
    "        if n & 1: # 如果当前二进制位等于1\n",
    "            pow *= x \n",
    "        x *= x\n",
    "        n >>= 1\n",
    "    return pow\n",
    "\n",
    "test = myPow(2,10)\n",
    "print(test)"
   ]
  }
 ],
 "metadata": {
  "kernelspec": {
   "display_name": "Python [default]",
   "language": "python",
   "name": "python3"
  },
  "language_info": {
   "codemirror_mode": {
    "name": "ipython",
    "version": 3
   },
   "file_extension": ".py",
   "mimetype": "text/x-python",
   "name": "python",
   "nbconvert_exporter": "python",
   "pygments_lexer": "ipython3",
   "version": "3.7.0"
  }
 },
 "nbformat": 4,
 "nbformat_minor": 2
}
