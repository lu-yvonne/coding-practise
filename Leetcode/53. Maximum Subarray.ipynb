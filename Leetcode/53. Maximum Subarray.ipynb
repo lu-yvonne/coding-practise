{
 "cells": [
  {
   "cell_type": "code",
   "execution_count": null,
   "metadata": {},
   "outputs": [],
   "source": [
    "# Given an integer array nums, find the contiguous subarray (containing at least one number)\n",
    "# which has the largest sum and return its sum.\n",
    "\n",
    "# Example:\n",
    "\n",
    "# Input: [-2,1,-3,4,-1,2,1,-5,4],\n",
    "# Output: 6\n",
    "# Explanation: [4,-1,2,1] has the largest sum = 6.\n",
    "# Follow up:\n",
    "\n",
    "# If you have figured out the O(n) solution, try coding another solution using the divide and conquer approach,\n",
    "# which is more subtle."
   ]
  },
  {
   "cell_type": "code",
   "execution_count": 22,
   "metadata": {},
   "outputs": [
    {
     "name": "stdout",
     "output_type": "stream",
     "text": [
      "[-2]\n",
      "\n"
     ]
    }
   ],
   "source": [
    "# 思路\n",
    "# 方法1：\n",
    "# 暴力\n",
    "# 可以求解，但是超时\n",
    "class Solution:\n",
    "    def maxSubArray(self, nums):\n",
    "        res = []\n",
    "        for i in range(len(nums)):\n",
    "            s = []\n",
    "            for j in range(len(nums)-i):\n",
    "#                 print(nums[j:j+i+1])\n",
    "                s.append(sum(nums[j:j+i+1]))\n",
    "            ma = max(s)\n",
    "            res.append(ma)\n",
    "#         print(nums[:1])\n",
    "        return max(res)\n",
    "\n",
    "# obj = Solution()\n",
    "# test1 = obj.maxSubArray([-2])\n",
    "# print(test1)\n",
    "obj = Solution()\n",
    "test2 = obj.maxSubArray([-2,1,-3,4,-1,2,1,-5,4])\n",
    "print(test2)"
   ]
  },
  {
   "cell_type": "code",
   "execution_count": null,
   "metadata": {},
   "outputs": [],
   "source": [
    "# 利用动态规划\n",
    "# dp[i]：i结尾的最大和子序列\n",
    "# 状态转移：dp[i] = max(nums[i],dp[i-1]+nums[i])\n",
    "# 最大子序和 = 当前元素自身最大, 或者 包含之后最大\n",
    "# 时间复杂度：O(n)\n",
    "\n",
    "class Solution:\n",
    "    def maxSubArray(self, nums):\n",
    "        if not nums or len(nums) == 1: return nums[0]\n",
    "        dp = [None for _ in range(len(nums))]\n",
    "    #     print(dp)\n",
    "        dp[0] = nums[0]\n",
    "    #     print(dp)\n",
    "        for i in range(1,len(nums)):\n",
    "            dp[i] = max(nums[i],dp[i-1]+nums[i])\n",
    "        return max(dp)"
   ]
  },
  {
   "cell_type": "code",
   "execution_count": null,
   "metadata": {},
   "outputs": [],
   "source": [
    "# 分治法\n",
    "# 最大自序不是在左边就是在右边或者在中间\n",
    "# 递归实现"
   ]
  }
 ],
 "metadata": {
  "kernelspec": {
   "display_name": "Python [default]",
   "language": "python",
   "name": "python3"
  },
  "language_info": {
   "codemirror_mode": {
    "name": "ipython",
    "version": 3
   },
   "file_extension": ".py",
   "mimetype": "text/x-python",
   "name": "python",
   "nbconvert_exporter": "python",
   "pygments_lexer": "ipython3",
   "version": "3.7.0"
  }
 },
 "nbformat": 4,
 "nbformat_minor": 2
}
