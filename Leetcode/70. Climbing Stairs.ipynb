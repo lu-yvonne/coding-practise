{
 "cells": [
  {
   "cell_type": "code",
   "execution_count": null,
   "metadata": {},
   "outputs": [],
   "source": [
    "# You are climbing a stair case. It takes n steps to reach to the top.\n",
    "\n",
    "# Each time you can either climb 1 or 2 steps. In how many distinct ways can you climb to the top?\n",
    "\n",
    "# Note: Given n will be a positive integer.\n",
    "\n",
    "# Example 1:\n",
    "# Input: 2\n",
    "# Output: 2\n",
    "# Explanation: There are two ways to climb to the top.\n",
    "# 1. 1 step + 1 step\n",
    "# 2. 2 steps\n",
    "\n",
    "# Example 2:\n",
    "# Input: 3\n",
    "# Output: 3\n",
    "# Explanation: There are three ways to climb to the top.\n",
    "# 1. 1 step + 1 step + 1 step\n",
    "# 2. 1 step + 2 steps\n",
    "# 3. 2 steps + 1 step"
   ]
  },
  {
   "cell_type": "code",
   "execution_count": 13,
   "metadata": {},
   "outputs": [
    {
     "name": "stdout",
     "output_type": "stream",
     "text": [
      "3\n"
     ]
    }
   ],
   "source": [
    "# 思路\n",
    "# 动态规划\n",
    "# 时间复杂度O(n)\n",
    "class Solution:\n",
    "    def climbStairs(self, n: int) -> int:\n",
    "        if n == 1 or n == 2:\n",
    "            return n\n",
    "        f = [ 0 for i in range(n+1)]\n",
    "        f[1] = 1\n",
    "        f[2] = 2\n",
    "        for i in range(3,n+1):\n",
    "            f[i] = f[i-1] + f[i-2]\n",
    "        return f[n]\n",
    "\n",
    "obj = Solution()\n",
    "test1 = obj.climbStairs(3)\n",
    "print(test1)"
   ]
  },
  {
   "cell_type": "code",
   "execution_count": 17,
   "metadata": {},
   "outputs": [
    {
     "name": "stdout",
     "output_type": "stream",
     "text": [
      "3\n"
     ]
    }
   ],
   "source": [
    "# 参考代码\n",
    "class Solution:\n",
    "    def climbStairs(self, n: int) -> int:\n",
    "        x,y = 1,1\n",
    "        for _ in range(1,n):\n",
    "            x,y = y, x+y  # 这两个是同时赋值的，后一个x+y赋值给y的x不会受到前一个赋值语句的影响\n",
    "        return y                    # 后一个状态只需要用到前两个状态\n",
    "\n",
    "    \n",
    "obj = Solution()\n",
    "test1 = obj.climbStairs(3)\n",
    "print(test1)"
   ]
  },
  {
   "cell_type": "code",
   "execution_count": null,
   "metadata": {},
   "outputs": [],
   "source": []
  }
 ],
 "metadata": {
  "kernelspec": {
   "display_name": "Python [default]",
   "language": "python",
   "name": "python3"
  },
  "language_info": {
   "codemirror_mode": {
    "name": "ipython",
    "version": 3
   },
   "file_extension": ".py",
   "mimetype": "text/x-python",
   "name": "python",
   "nbconvert_exporter": "python",
   "pygments_lexer": "ipython3",
   "version": "3.7.0"
  }
 },
 "nbformat": 4,
 "nbformat_minor": 2
}
