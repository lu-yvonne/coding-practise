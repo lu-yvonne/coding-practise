{
 "cells": [
  {
   "cell_type": "code",
   "execution_count": null,
   "metadata": {},
   "outputs": [],
   "source": [
    "# Design a class to find the kth largest element in a stream. Note that it is the kth largest element\n",
    "# in the sorted order, not the kth distinct element.\n",
    "\n",
    "# Your KthLargest class will have a constructor which accepts an integer k and an integer array nums, \n",
    "# which contains initial elements from the stream. For each call to the method KthLargest.add, \n",
    "# return the element representing the kth largest element in the stream.\n",
    "\n",
    "# Example:\n",
    "\n",
    "# int k = 3;\n",
    "# int[] arr = [4,5,8,2];\n",
    "# KthLargest kthLargest = new KthLargest(3, arr);\n",
    "# kthLargest.add(3);   // returns 4\n",
    "# kthLargest.add(5);   // returns 5\n",
    "# kthLargest.add(10);  // returns 5\n",
    "# kthLargest.add(9);   // returns 8\n",
    "# kthLargest.add(4);   // returns 8\n",
    "\n",
    "# Note: \n",
    "# You may assume that nums' length ≥ k-1 and k ≥ 1."
   ]
  },
  {
   "cell_type": "code",
   "execution_count": 8,
   "metadata": {},
   "outputs": [
    {
     "name": "stdout",
     "output_type": "stream",
     "text": [
      "4\n",
      "5\n"
     ]
    }
   ],
   "source": [
    "# 思路\n",
    "# 方法一：\n",
    "# 保存k个最大值在maxlist中，如果新加进的元素比maxlist中的大，则加进这个list中，同时一直进行排序（sorted），\n",
    "# 如果list的length已经达到k，则加进数的同时还需要去掉list中最小的数\n",
    "# 时间复杂度：N*K*logK\n",
    "\n",
    "# 方法二：利用优先队列\n",
    "# 建立小顶堆，同时size=K（小顶堆的堆顶元素一定是堆的最小元素）\n",
    "# 将每一个新元素与堆顶元素进行比较，如果比堆顶元素大，则堆顶元素去掉，加入新元素，否则不用管\n",
    "# 时间复杂度：N*O(1)或者N*log(K)\n",
    "# 所以平均复杂度为N*log(K)\n",
    "\n",
    "import heapq # 实现优先队列的模块\n",
    "class KthLargest:\n",
    "    def __init__(self, k, nums):\n",
    "        self.nums = nums\n",
    "        self.k = k\n",
    "        heapq.heapify(self.nums) # 利用heapq包，构造小顶堆\n",
    "        while len(self.nums) > self.k:\n",
    "            heapq.heappop(self.nums) # 如果size大于K，则弹出堆顶元素\n",
    "\n",
    "    def add(self, val) :\n",
    "#         如果堆的size小于K，则新元素可以直接压入堆\n",
    "        if len(self.nums) < self.k:\n",
    "            heapq.heappush(self.nums, val)\n",
    "#             如果新元素大于堆顶元素，则先弹出堆顶元素，再把新元素压入堆\n",
    "#             也可以用replace来实现\n",
    "        elif val > self.nums[0]:\n",
    "            heapq.heapreplace(self.nums, val)\n",
    "#             直接用replace更快\n",
    "#             heapq.heappop(self.nums)\n",
    "#             heapq.heappush(self.nums,val)\n",
    "        return self.nums[0] # 输出堆顶元素\n",
    "        \n",
    "        \n",
    "\n",
    "\n",
    "# Your KthLargest object will be instantiated and called as such:\n",
    "obj = KthLargest(3, [4,5,8,2])\n",
    "param_1 = obj.add(3)\n",
    "print(param_1)\n",
    "param_2 = obj.add(5)\n",
    "print(param_2)"
   ]
  }
 ],
 "metadata": {
  "kernelspec": {
   "display_name": "Python [default]",
   "language": "python",
   "name": "python3"
  },
  "language_info": {
   "codemirror_mode": {
    "name": "ipython",
    "version": 3
   },
   "file_extension": ".py",
   "mimetype": "text/x-python",
   "name": "python",
   "nbconvert_exporter": "python",
   "pygments_lexer": "ipython3",
   "version": "3.7.0"
  }
 },
 "nbformat": 4,
 "nbformat_minor": 2
}
