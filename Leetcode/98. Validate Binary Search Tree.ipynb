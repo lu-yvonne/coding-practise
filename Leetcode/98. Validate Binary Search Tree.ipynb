{
 "cells": [
  {
   "cell_type": "code",
   "execution_count": null,
   "metadata": {},
   "outputs": [],
   "source": [
    "# Given a binary tree, determine if it is a valid binary search tree (BST).\n",
    "\n",
    "# Assume a BST is defined as follows:\n",
    "\n",
    "# The left subtree of a node contains only nodes with keys less than the node's key.\n",
    "# The right subtree of a node contains only nodes with keys greater than the node's key.\n",
    "# Both the left and right subtrees must also be binary search trees.\n",
    " \n",
    "\n",
    "# Example 1:\n",
    "\n",
    "#     2\n",
    "#    / \\\n",
    "#   1   3\n",
    "\n",
    "# Input: [2,1,3]\n",
    "# Output: true\n",
    "\n",
    "# Example 2:\n",
    "\n",
    "#     5\n",
    "#    / \\\n",
    "#   1   4\n",
    "#      / \\\n",
    "#     3   6\n",
    "\n",
    "# Input: [5,1,4,null,null,3,6]\n",
    "# Output: false\n",
    "# Explanation: The root node's value is 5 but its right child's value is 4."
   ]
  },
  {
   "cell_type": "code",
   "execution_count": 10,
   "metadata": {},
   "outputs": [
    {
     "name": "stdout",
     "output_type": "stream",
     "text": [
      "True\n",
      "False\n"
     ]
    }
   ],
   "source": [
    "# 思路\n",
    "# 方法1：\n",
    "# 做一次中序遍历，得到的数组应该是一个严格升序排列的\n",
    "# 时间复杂度：O(N)\n",
    "\n",
    "# Definition for a binary tree node.\n",
    "class TreeNode:\n",
    "    def __init__(self, x):\n",
    "        self.val = x\n",
    "        self.left = None\n",
    "        self.right = None\n",
    "\n",
    "class Solution:\n",
    "    def isValidBST(self, root: TreeNode) -> bool:\n",
    "        inorder = self.inorder(root)\n",
    "        return inorder == list(sorted(set(inorder))) # 但是这里又是set又是sort又是list的，时间和空间效率都比较差\n",
    "    \n",
    "    def inorder(self,root):\n",
    "        if not root:\n",
    "            return []\n",
    "        return self.inorder(root.left) + [root.val] + self.inorder(root.right)\n",
    "\n",
    "# TEST\n",
    "# [5,1,4,null,null,3,6]\n",
    "root = TreeNode(2)\n",
    "root.left = TreeNode(1)\n",
    "root.right = TreeNode(3)\n",
    "l = Solution()\n",
    "test1 = l.isValidBST(root)\n",
    "print(test1)\n",
    "\n",
    "root1 = TreeNode(5)\n",
    "root1.left = TreeNode(1)\n",
    "root1.right = TreeNode(4)\n",
    "root1.right.left = TreeNode(3)\n",
    "root1.right.right = TreeNode(6)\n",
    "l1 = Solution()\n",
    "test2 = l1.isValidBST(root1)\n",
    "print(test2)"
   ]
  },
  {
   "cell_type": "code",
   "execution_count": 12,
   "metadata": {},
   "outputs": [
    {
     "name": "stdout",
     "output_type": "stream",
     "text": [
      "False\n"
     ]
    }
   ],
   "source": [
    "# 方法2：\n",
    "# 递归判断\n",
    "# 时间复杂度：O(N)\n",
    "# Validation(...,min,max){\n",
    "#     max <- Validation(node.left)\n",
    "#     min <- Validation(node.right)\n",
    "#     判断 max < root && min > root\n",
    "#     同理，继续下去\n",
    "# }\n",
    "\n",
    "# 实际上只需要判断当前节点和前继节点的关系\n",
    "\n",
    "class TreeNode:\n",
    "    def __init__(self, x):\n",
    "        self.val = x\n",
    "        self.left = None\n",
    "        self.right = None\n",
    "\n",
    "class Solution:\n",
    "    def isValidBST(self, root: TreeNode) -> bool:\n",
    "        self.prev = None\n",
    "        return self.helper(root)\n",
    "    \n",
    "    def helper(self, root): # 中序遍历\n",
    "        if not root:\n",
    "            return True\n",
    "        if not self.helper(root.left):\n",
    "            return False\n",
    "        if self.prev and self.prev.val >= root.val:\n",
    "            return False\n",
    "        self.prev = root\n",
    "        return self.helper(root.right)\n",
    "\n",
    "# Test\n",
    "root2 = TreeNode(5)\n",
    "root2.left = TreeNode(1)\n",
    "root2.right = TreeNode(4)\n",
    "root2.right.left = TreeNode(3)\n",
    "root2.right.right = TreeNode(6)\n",
    "l2 = Solution()\n",
    "test3 = l2.isValidBST(root1)\n",
    "print(test3)"
   ]
  },
  {
   "cell_type": "code",
   "execution_count": 21,
   "metadata": {},
   "outputs": [
    {
     "name": "stdout",
     "output_type": "stream",
     "text": [
      "False\n"
     ]
    }
   ],
   "source": [
    "class TreeNode:\n",
    "    def __init__(self, x):\n",
    "        self.val = x\n",
    "        self.left = None\n",
    "        self.right = None\n",
    "\n",
    "class Solution:\n",
    "    def isValidBST(self, root):\n",
    "        \"\"\"\n",
    "        :type root: TreeNode\n",
    "        :rtype: bool\n",
    "        \"\"\"\n",
    "        return self.valid(root, None, None)\n",
    "    \n",
    "    def valid(self, node, min, max):\n",
    "        if not node:\n",
    "            return True\n",
    "        if min is not None and node.val <= min:\n",
    "            return False\n",
    "        if max is not None and node.val >= max:\n",
    "            return False\n",
    "        return self.valid(node.left, min, node.val) and self.valid(node.right, node.val, max)\n",
    "    \n",
    "root2 = TreeNode(5)\n",
    "root2.left = TreeNode(1)\n",
    "root2.right = TreeNode(4)\n",
    "root2.right.left = TreeNode(3)\n",
    "root2.right.right = TreeNode(6)\n",
    "l2 = Solution()\n",
    "test3 = l2.isValidBST(root1)\n",
    "print(test3)"
   ]
  }
 ],
 "metadata": {
  "kernelspec": {
   "display_name": "Python [default]",
   "language": "python",
   "name": "python3"
  },
  "language_info": {
   "codemirror_mode": {
    "name": "ipython",
    "version": 3
   },
   "file_extension": ".py",
   "mimetype": "text/x-python",
   "name": "python",
   "nbconvert_exporter": "python",
   "pygments_lexer": "ipython3",
   "version": "3.7.0"
  }
 },
 "nbformat": 4,
 "nbformat_minor": 2
}
