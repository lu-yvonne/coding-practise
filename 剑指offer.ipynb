{
 "cells": [
  {
   "cell_type": "markdown",
   "metadata": {},
   "source": [
    "输入一个链表，按链表值从尾到头的顺序返回一个ArrayList。"
   ]
  },
  {
   "cell_type": "code",
   "execution_count": null,
   "metadata": {},
   "outputs": [],
   "source": [
    "# 1.先遍历链表元素到栈\n",
    "# 2.栈再弹出\n",
    " \n",
    " \n",
    "# -*- coding:utf-8 -*-\n",
    "# class ListNode:\n",
    "#     def __init__(self, x):\n",
    "#         self.val = x\n",
    "#         self.next = None\n",
    "class Solution:\n",
    "    # 返回从尾部到头部的列表值序列，例如[1,2,3]\n",
    "    def printListFromTailToHead(self, listNode):\n",
    "        # write code here\n",
    "        lst,lst_back = [],[]\n",
    "        if not listNode:  ## 判断是否为空\n",
    "            return lst\n",
    "        while listNode:\n",
    "            lst.append(listNode.val)\n",
    "            listNode = listNode.next\n",
    "        while lst:\n",
    "            lst_back.append(lst.pop()) # 从后弹出？？\n",
    "        return lst_back\n",
    "## 或者可以直接 return lst[::-1]"
   ]
  },
  {
   "cell_type": "markdown",
   "metadata": {},
   "source": [
    "链表\n",
    "\n"
   ]
  },
  {
   "cell_type": "code",
   "execution_count": null,
   "metadata": {},
   "outputs": [],
   "source": [
    "python中replace应用的算法思想\n",
    "\n",
    "遍历二维数组比较时从左下角开始"
   ]
  }
 ],
 "metadata": {
  "kernelspec": {
   "display_name": "Python [default]",
   "language": "python",
   "name": "python3"
  },
  "language_info": {
   "codemirror_mode": {
    "name": "ipython",
    "version": 3
   },
   "file_extension": ".py",
   "mimetype": "text/x-python",
   "name": "python",
   "nbconvert_exporter": "python",
   "pygments_lexer": "ipython3",
   "version": "3.7.0"
  }
 },
 "nbformat": 4,
 "nbformat_minor": 2
}
