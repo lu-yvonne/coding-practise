{
 "cells": [
  {
   "cell_type": "markdown",
   "metadata": {},
   "source": [
    "#### 题目描述\n",
    "把一个数组最开始的若干个元素搬到数组的末尾，我们称之为数组的旋转。 输入一个非减排序的数组的一个旋转，输出旋转数组的最小元素。 例如数组{3,4,5,1,2}为{1,2,3,4,5}的一个旋转，该数组的最小值为1。 NOTE：给出的所有元素都大于0，若数组大小为0，请返回0。"
   ]
  },
  {
   "cell_type": "markdown",
   "metadata": {},
   "source": [
    "#### 思路\n",
    "总体使用二分法 （二分法常用于在有序数组或部分有序数组查找某个数字）<br>\n",
    "虽然原数组是非减数组，但仍然算是有序数组<br>\n",
    "可以把旋转后的数组分隔为两个有序数组，注意旋转数组的特性：\n",
    " * 1.包含两个有序序列\n",
    " * **2.最小数一定位于第二个序列的开头**\n",
    " * 3.前序列的值都>=后序列的值\n",
    " * 定义把一个数组最开始的若干个元素搬到数组的末尾，我们称之为数组的旋转。\n",
    " \n",
    " 分隔mid，如果mid<start"
   ]
  },
  {
   "cell_type": "markdown",
   "metadata": {},
   "source": [
    "#### 代码"
   ]
  },
  {
   "cell_type": "code",
   "execution_count": 1,
   "metadata": {},
   "outputs": [],
   "source": [
    "# -*- coding:utf-8 -*-\n",
    "def minNumberInRotateArray(rotateArray):\n",
    "        # 保证数组大小不为0\n",
    "        if not rotateArray:\n",
    "            return 0\n",
    "        else:\n",
    "            low = 0\n",
    "            high = len(rotateArray)-1\n",
    "            while True:# 利用递归实现查找\n",
    "                mid = (low+high)//2\n",
    "                if rotateArray[low]>= rotateArray[mid]:\n",
    "                    high = mid\n",
    "                else:\n",
    "                    low = mid\n",
    "                if rotateArray[mid] < rotateArray[mid-1]:\n",
    "                    return rotateArray[mid]\n",
    "                    \n",
    "#### 这个代码是有问题的 通不过用例测试： print(minNumberInRotateArray([1,1,1,0,1]))\n",
    "            \n",
    "        \n",
    "        # write code here"
   ]
  },
  {
   "cell_type": "code",
   "execution_count": 5,
   "metadata": {},
   "outputs": [],
   "source": [
    "# 排序算法\n",
    "def minNumberInRotateArray(rotateArray):\n",
    "    if len(rotateArray) == 0:\n",
    "            return 0   #空数组返回0\n",
    "        #else:\n",
    "            #return min(list(rotateArray))   #內建函数\n",
    "    elif len(rotateArray) == 1:\n",
    "            return rotateArray[0]   #1元素数组返回元素值\n",
    "    else:\n",
    "            #非减排序，也就是说增序呗    对比查找，第一个比前一位小的数\n",
    "        for i in range(len(rotateArray)):\n",
    "            if rotateArray[i]>rotateArray[i+1]:\n",
    "                return rotateArray[i+1]                \n"
   ]
  },
  {
   "cell_type": "code",
   "execution_count": 6,
   "metadata": {},
   "outputs": [
    {
     "name": "stdout",
     "output_type": "stream",
     "text": [
      "1\n"
     ]
    }
   ],
   "source": [
    "# test\n",
    "print(minNumberInRotateArray([3,4,5,1,2]))"
   ]
  },
  {
   "cell_type": "code",
   "execution_count": null,
   "metadata": {},
   "outputs": [],
   "source": [
    "print(minNumberInRotateArray([1,1,1,0,1]))"
   ]
  },
  {
   "cell_type": "code",
   "execution_count": 7,
   "metadata": {},
   "outputs": [
    {
     "name": "stdout",
     "output_type": "stream",
     "text": [
      "0\n"
     ]
    }
   ],
   "source": [
    "\n",
    "print(minNumberInRotateArray([]))"
   ]
  },
  {
   "cell_type": "code",
   "execution_count": null,
   "metadata": {},
   "outputs": [],
   "source": []
  },
  {
   "cell_type": "code",
   "execution_count": null,
   "metadata": {},
   "outputs": [],
   "source": []
  },
  {
   "cell_type": "code",
   "execution_count": null,
   "metadata": {},
   "outputs": [],
   "source": []
  }
 ],
 "metadata": {
  "kernelspec": {
   "display_name": "Python [default]",
   "language": "python",
   "name": "python3"
  },
  "language_info": {
   "codemirror_mode": {
    "name": "ipython",
    "version": 3
   },
   "file_extension": ".py",
   "mimetype": "text/x-python",
   "name": "python",
   "nbconvert_exporter": "python",
   "pygments_lexer": "ipython3",
   "version": "3.7.0"
  }
 },
 "nbformat": 4,
 "nbformat_minor": 2
}
