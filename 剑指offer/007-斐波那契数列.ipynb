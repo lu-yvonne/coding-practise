{
 "cells": [
  {
   "cell_type": "markdown",
   "metadata": {},
   "source": [
    "#### 题目描述\n",
    "大家都知道斐波那契数列，现在要求输入一个整数n，请你输出斐波那契数列的第n项（从0开始，第0项为0）。\n",
    "\n",
    "n<=39"
   ]
  },
  {
   "cell_type": "markdown",
   "metadata": {},
   "source": [
    "#### 思路\n",
    "\n",
    "\n",
    "本质是动态规划\n",
    "\n",
    "方法1：\n",
    "递归：f(n) = f(n-1)+f(n-2)\n",
    "不考虑，有大量的重复计算，会导致内存溢出, \n",
    "算法复杂度会达到O(2^N)\n",
    "\n",
    "\n",
    "方法2：\n",
    "用循环，将每一个数储存在list中<br>\n",
    "比如 1 2 3 4 5 6<br>\n",
    "即为 1 1 2 3 5 8<br>\n",
    "这样不用进行重复计算，而直接进行连加即可\n",
    "\n",
    "方法3:\n",
    "使用矩阵乘法\n",
    "\n",
    "\n",
    "\n",
    "#### 代码"
   ]
  },
  {
   "cell_type": "code",
   "execution_count": 4,
   "metadata": {},
   "outputs": [],
   "source": [
    "    def Fibonacci(n):\n",
    "        if n<=0:\n",
    "            return 0\n",
    "        f1=0\n",
    "        f2=1\n",
    "        for i in range(n-1):\n",
    "            f1=f1+f2\n",
    "            f1,f2=f2,f1\n",
    "        return f2"
   ]
  },
  {
   "cell_type": "code",
   "execution_count": 5,
   "metadata": {},
   "outputs": [
    {
     "data": {
      "text/plain": [
       "8"
      ]
     },
     "execution_count": 5,
     "metadata": {},
     "output_type": "execute_result"
    }
   ],
   "source": [
    "Fibonacci(6)"
   ]
  }
 ],
 "metadata": {
  "kernelspec": {
   "display_name": "Python [default]",
   "language": "python",
   "name": "python3"
  },
  "language_info": {
   "codemirror_mode": {
    "name": "ipython",
    "version": 3
   },
   "file_extension": ".py",
   "mimetype": "text/x-python",
   "name": "python",
   "nbconvert_exporter": "python",
   "pygments_lexer": "ipython3",
   "version": "3.7.0"
  }
 },
 "nbformat": 4,
 "nbformat_minor": 2
}
