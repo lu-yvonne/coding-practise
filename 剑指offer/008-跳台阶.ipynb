{
 "cells": [
  {
   "cell_type": "markdown",
   "metadata": {},
   "source": [
    "#### 题目描述\n",
    "一只青蛙一次可以跳上1级台阶，也可以跳上2级。求该青蛙跳上一个n级的台阶总共有多少种跳法（先后次序不同算不同的结果）。\n",
    "\n",
    "#### 思路\n",
    "\n",
    "\n",
    "本质是动态规划，和斐波那契数列数列想法一致\n",
    "<br>对于第n级台阶，可以从n-1级台阶跳1格达到，也可以从n-2级台阶跳2格达到。如果用f表示有多少种跳法，那么f(n)=f(n-1)+f(n-2)\n",
    "<br>但是，不可以用递归的方法以免内存过大造成溢出，而需要使用循环的方法。"
   ]
  },
  {
   "cell_type": "code",
   "execution_count": null,
   "metadata": {},
   "outputs": [],
   "source": [
    "def jumpFloor(number):\n",
    "    j0 = 1\n",
    "    j1 = 1\n",
    "    for i in range(number):\n",
    "        j0,j1 = j1,j0+j1\n",
    "    return j0\n",
    "            "
   ]
  }
 ],
 "metadata": {
  "kernelspec": {
   "display_name": "Python [default]",
   "language": "python",
   "name": "python3"
  },
  "language_info": {
   "codemirror_mode": {
    "name": "ipython",
    "version": 3
   },
   "file_extension": ".py",
   "mimetype": "text/x-python",
   "name": "python",
   "nbconvert_exporter": "python",
   "pygments_lexer": "ipython3",
   "version": "3.7.0"
  }
 },
 "nbformat": 4,
 "nbformat_minor": 2
}
