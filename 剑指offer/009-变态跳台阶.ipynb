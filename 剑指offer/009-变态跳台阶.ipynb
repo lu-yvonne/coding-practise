{
 "cells": [
  {
   "cell_type": "markdown",
   "metadata": {},
   "source": [
    "#### 题目描述\n",
    "一只青蛙一次可以跳上1级台阶，也可以跳上2级……它也可以跳上n级。求该青蛙跳上一个n级的台阶总共有多少种跳法。\n",
    "#### 思路\n",
    "对于第n级台阶，可以从n-1级台阶跳1格达到，可以从n-2级台阶跳2格达到……也可以从1级台阶跳n-1级达到，也可以从0级台阶跳n级达到。如果用f表示有多少种跳法，那么f(n)=f(n-1)+f(n-2)+f(n-3)+f(n-4)+...+f(1)+f(0)\n",
    "<br>而f(n-1) = f(n-2)+f(n-3)+f(n-4)+...+f(1)+f(0)\n",
    "<br>所以f(n) = 2* f(n-1)"
   ]
  },
  {
   "cell_type": "code",
   "execution_count": 2,
   "metadata": {},
   "outputs": [
    {
     "name": "stdout",
     "output_type": "stream",
     "text": [
      "4\n"
     ]
    }
   ],
   "source": [
    "def jumpFloorII(number):\n",
    "    if number == 0:\n",
    "        return 0\n",
    "    elif number == 1:\n",
    "        return 1\n",
    "    elif number == 2:\n",
    "        return 2\n",
    "    else:\n",
    "        return 2*jumpFloorII(number-1)\n",
    "    \n",
    "print(jumpFloorII(3))"
   ]
  },
  {
   "cell_type": "code",
   "execution_count": 3,
   "metadata": {},
   "outputs": [
    {
     "name": "stdout",
     "output_type": "stream",
     "text": [
      "4\n"
     ]
    }
   ],
   "source": [
    "def jumpFloorII(number):\n",
    "    if number <= 0:\n",
    "        return 0\n",
    "    else:\n",
    "        return pow(2, number-1) ### pow(x, y)是求x的y次幂\n",
    "    \n",
    "print(jumpFloorII(3))"
   ]
  }
 ],
 "metadata": {
  "kernelspec": {
   "display_name": "Python [default]",
   "language": "python",
   "name": "python3"
  },
  "language_info": {
   "codemirror_mode": {
    "name": "ipython",
    "version": 3
   },
   "file_extension": ".py",
   "mimetype": "text/x-python",
   "name": "python",
   "nbconvert_exporter": "python",
   "pygments_lexer": "ipython3",
   "version": "3.7.0"
  }
 },
 "nbformat": 4,
 "nbformat_minor": 2
}
