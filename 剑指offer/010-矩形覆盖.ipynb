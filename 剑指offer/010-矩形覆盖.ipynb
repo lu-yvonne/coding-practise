{
 "cells": [
  {
   "cell_type": "markdown",
   "metadata": {},
   "source": [
    "#### 题目描述\n",
    "我们可以用2\\*1的小矩形横着或者竖着去覆盖更大的矩形。请问用n个2\\*1的小矩形无重叠地覆盖一个2\\*n的大矩形，总共有多少种方法？\n",
    "#### 思路\n",
    "当这个矩形是2\\*1时，有1种方法，当2\\*2时，有2种方法，当2\\*3时，有3种方法\n",
    "<br>假设矩形是2\\*(n-1)时，有f(n-1)种方法\n",
    "<br>那么当矩形是2\\*n时，如果第一次摆一个2\\*1的矩形，则有f(n-1)种方法，如果第一次摆一个1\\*2的矩形，则有f(n-2)种方法，那么一共有f(n-1)+f(n-2)种方法\n",
    "<br>和斐波那契数列相同"
   ]
  },
  {
   "cell_type": "code",
   "execution_count": 1,
   "metadata": {},
   "outputs": [
    {
     "name": "stdout",
     "output_type": "stream",
     "text": [
      "0\n",
      "5\n",
      "8\n"
     ]
    }
   ],
   "source": [
    "def rectCover(number):\n",
    "    c0 = 0\n",
    "    c1 = 1\n",
    "    if number <= 0:\n",
    "        return 0\n",
    "    else:\n",
    "        for i in range(number):\n",
    "                c0, c1 = c1, c0+c1\n",
    "    return c1\n",
    "        \n",
    "\n",
    "print(rectCover(0))\n",
    "print(rectCover(4))\n",
    "print(rectCover(5))"
   ]
  },
  {
   "cell_type": "code",
   "execution_count": null,
   "metadata": {},
   "outputs": [],
   "source": []
  }
 ],
 "metadata": {
  "kernelspec": {
   "display_name": "Python [default]",
   "language": "python",
   "name": "python3"
  },
  "language_info": {
   "codemirror_mode": {
    "name": "ipython",
    "version": 3
   },
   "file_extension": ".py",
   "mimetype": "text/x-python",
   "name": "python",
   "nbconvert_exporter": "python",
   "pygments_lexer": "ipython3",
   "version": "3.7.0"
  }
 },
 "nbformat": 4,
 "nbformat_minor": 2
}
