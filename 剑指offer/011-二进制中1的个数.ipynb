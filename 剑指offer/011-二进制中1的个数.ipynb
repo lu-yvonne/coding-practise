{
 "cells": [
  {
   "cell_type": "markdown",
   "metadata": {},
   "source": [
    "#### 题目描述\n",
    "输入一个整数，输出该数二进制表示中1的个数。其中负数用补码表示。\n",
    "#### 思路\n",
    "如果一个整数不为0，那么这个整数至少有一位是1。如果我们把这个整数减1，那么原来处在整数最右边的1就会变为0，原来在1\n",
    "后面的所有的0都会变成1(如果最右边的1后面还有0的话)。其余所有位将不会受到影响。\n",
    "\n",
    "举个例子：一个二进制数1100，从右边数起第三位是处于最右边的一个1。减去1后，第三位变成0，它后面的两位0变成了1，\n",
    "而前面的1保持不变，因此得到的结果是1011.我们发现减1的结果是把最右边的一个1开始的所有位都取反了。这个时候如果我们\n",
    "再把原来的整数和减去1之后的结果做与运算，从原来整数最右边一个1那一位开始所有位都会变成0。如1100&1011=1000.也就是\n",
    "说，把一个整数减去1，再和原整数做与运算，会把该整数最右边一个1变成0.那么一个整数的二进制有多少个1，就可以进行多少\n",
    "次这样的操作。\n",
    "\n",
    "但是负数使用补码表示的，对于负数，最高位为1，而负数在计算机是以补码存在的，往右移，符号位不变，符号位1往右移，\n",
    "最终可能会出现全1的情况，导致死循环。与0xffffffff相与，就可以消除负数的影响\n",
    "\n",
    "0xFFFFFFFF是一个负数的补码, 而这个数是-1"
   ]
  },
  {
   "cell_type": "code",
   "execution_count": 19,
   "metadata": {},
   "outputs": [],
   "source": [
    "def NumberOf1(n):       \n",
    "    count = 0\n",
    "    if n == 0 :\n",
    "        return 0\n",
    "    elif n < 0:\n",
    "        n = n & 0xffffffff\n",
    "    while n:\n",
    "        count += 1\n",
    "        n = n & n-1\n",
    "    return count"
   ]
  },
  {
   "cell_type": "code",
   "execution_count": 26,
   "metadata": {},
   "outputs": [
    {
     "data": {
      "text/plain": [
       "29"
      ]
     },
     "execution_count": 26,
     "metadata": {},
     "output_type": "execute_result"
    }
   ],
   "source": [
    "NumberOf1(-14)"
   ]
  },
  {
   "cell_type": "code",
   "execution_count": 28,
   "metadata": {},
   "outputs": [
    {
     "name": "stdout",
     "output_type": "stream",
     "text": [
      "2\n"
     ]
    }
   ],
   "source": [
    "### python 专用\n",
    "def NumberOf1(n):\n",
    "    return sum([(n>>i & 1) for i in range(0,32)])\n",
    "\n",
    "print(NumberOf1(5))"
   ]
  }
 ],
 "metadata": {
  "kernelspec": {
   "display_name": "Python [default]",
   "language": "python",
   "name": "python3"
  },
  "language_info": {
   "codemirror_mode": {
    "name": "ipython",
    "version": 3
   },
   "file_extension": ".py",
   "mimetype": "text/x-python",
   "name": "python",
   "nbconvert_exporter": "python",
   "pygments_lexer": "ipython3",
   "version": "3.7.0"
  }
 },
 "nbformat": 4,
 "nbformat_minor": 2
}
