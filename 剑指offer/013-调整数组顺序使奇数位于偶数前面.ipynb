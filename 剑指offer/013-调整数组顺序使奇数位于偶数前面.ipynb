{
 "cells": [
  {
   "cell_type": "markdown",
   "metadata": {},
   "source": [
    "#### 题目描述\n",
    "输入一个整数数组，实现一个函数来调整该数组中数字的顺序，使得所有的奇数位于数组的前半部分，所有的偶数位于数组的后半部分，并保证奇数和奇数，偶数和偶数之间的相对位置不变。\n",
    "#### 思路\n",
    "方法1: 利用两个数组来实现，遍历整个数组，提出奇数和偶数分别放入两个数组，再将这两个数组合并\n",
    "\n",
    "方法2：类似冒泡算法，前偶后奇数就交换\n",
    "\n",
    "方法3：利用lambda表达式\n",
    "<br>lambda表达式：即定义一个匿名函数,这里利用sorted函数，key利用匿名函数c：c可以整除2，然后将排序得到的偶数组和奇数组进行反转"
   ]
  },
  {
   "cell_type": "code",
   "execution_count": 7,
   "metadata": {},
   "outputs": [],
   "source": [
    "def reOrderArray(array):\n",
    "    array1 = []\n",
    "    array2 = []\n",
    "    for i in array:\n",
    "        if i % 2 != 0:\n",
    "            array1.append(i)\n",
    "        else:\n",
    "            array2.append(i)\n",
    "    return array1+array2"
   ]
  },
  {
   "cell_type": "code",
   "execution_count": 13,
   "metadata": {},
   "outputs": [],
   "source": [
    "def reorderarray(array):\n",
    "    return sorted(array,key=lambda c:c%2,reverse=True)"
   ]
  },
  {
   "cell_type": "code",
   "execution_count": 11,
   "metadata": {},
   "outputs": [
    {
     "name": "stdout",
     "output_type": "stream",
     "text": [
      "[1, 3, 5, 7, 2, 4, 6]\n",
      "[1, 3, 5, 7, 2, 4, 6]\n"
     ]
    }
   ],
   "source": [
    "print(reOrderArray([1,2,3,4,5,6,7]))\n",
    "print(reorderarray([1,2,3,4,5,6,7]))"
   ]
  }
 ],
 "metadata": {
  "kernelspec": {
   "display_name": "Python [default]",
   "language": "python",
   "name": "python3"
  },
  "language_info": {
   "codemirror_mode": {
    "name": "ipython",
    "version": 3
   },
   "file_extension": ".py",
   "mimetype": "text/x-python",
   "name": "python",
   "nbconvert_exporter": "python",
   "pygments_lexer": "ipython3",
   "version": "3.7.0"
  }
 },
 "nbformat": 4,
 "nbformat_minor": 2
}
