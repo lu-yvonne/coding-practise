{
 "cells": [
  {
   "cell_type": "markdown",
   "metadata": {},
   "source": [
    "#### 题目描述\n",
    "输入一个链表，输出该链表中倒数第k个结点。\n",
    "#### 思路\n",
    "方法1; 利用链表的切片\n",
    "\n",
    "方法2：利用快慢指针，快指针先走k个，然后快慢指针同时走，当快指针走到头的时候，慢指针的位置就是倒数第k个节点的位置"
   ]
  },
  {
   "cell_type": "code",
   "execution_count": 25,
   "metadata": {},
   "outputs": [],
   "source": [
    "# -*- coding:utf-8 -*-\n",
    "class ListNode:\n",
    "    def __init__(self, x):\n",
    "        self.val = x\n",
    "        self.next = None\n",
    "\n",
    "class Solution:\n",
    "    def FindKthToTail(self, head, k):\n",
    "        res = []\n",
    "        while head:\n",
    "            res.append(head)\n",
    "            head = head.next\n",
    "        if k > len(res) or k < 1:\n",
    "            return\n",
    "        return res[-k]\n",
    "        # write code here"
   ]
  },
  {
   "cell_type": "code",
   "execution_count": 31,
   "metadata": {},
   "outputs": [
    {
     "ename": "TypeError",
     "evalue": "FindKthToTail() missing 1 required positional argument: 'k'",
     "output_type": "error",
     "traceback": [
      "\u001b[1;31m---------------------------------------------------------------------------\u001b[0m",
      "\u001b[1;31mTypeError\u001b[0m                                 Traceback (most recent call last)",
      "\u001b[1;32m<ipython-input-31-1dc4e7d7ae0a>\u001b[0m in \u001b[0;36m<module>\u001b[1;34m()\u001b[0m\n\u001b[1;32m----> 1\u001b[1;33m \u001b[0mFindKthToTail\u001b[0m\u001b[1;33m(\u001b[0m\u001b[1;33m{\u001b[0m\u001b[1;36m1\u001b[0m\u001b[1;33m,\u001b[0m\u001b[1;36m2\u001b[0m\u001b[1;33m,\u001b[0m\u001b[1;36m3\u001b[0m\u001b[1;33m,\u001b[0m\u001b[1;36m4\u001b[0m\u001b[1;33m,\u001b[0m\u001b[1;36m5\u001b[0m\u001b[1;33m}\u001b[0m\u001b[1;33m,\u001b[0m\u001b[1;36m1\u001b[0m\u001b[1;33m)\u001b[0m\u001b[1;33m\u001b[0m\u001b[0m\n\u001b[0m",
      "\u001b[1;31mTypeError\u001b[0m: FindKthToTail() missing 1 required positional argument: 'k'"
     ]
    }
   ],
   "source": [
    "class ListNode:\n",
    "    def __init__(self, x):\n",
    "        self.val = x\n",
    "        self.next = None\n",
    "\n",
    "class Solution:\n",
    "    def FindKthToTail(self, head, k):\n",
    "        if head==None or k<=0:\n",
    "            return None\n",
    "        #设置两个指针，p1指针先走（k-1）步，然后再一起走，当p1为最后一个时，p2就为倒数第k个数\n",
    "        p1 = head\n",
    "        p2 = head\n",
    "        #p1先走，走k-1步，如果k大于链表长度则返回 空，否则的话继续走\n",
    "        while k > 1:\n",
    "            if p1.next!=None:\n",
    "                p1 = p1.next\n",
    "                k -= 1\n",
    "            else:\n",
    "                return None\n",
    "        #两个指针一起 走，一直到p1为最后一个,p2即为所求\n",
    "        while p1.next!=None:\n",
    "            p1=p1.next\n",
    "            p2=p2.next\n",
    "        return p2"
   ]
  }
 ],
 "metadata": {
  "kernelspec": {
   "display_name": "Python [default]",
   "language": "python",
   "name": "python3"
  },
  "language_info": {
   "codemirror_mode": {
    "name": "ipython",
    "version": 3
   },
   "file_extension": ".py",
   "mimetype": "text/x-python",
   "name": "python",
   "nbconvert_exporter": "python",
   "pygments_lexer": "ipython3",
   "version": "3.7.0"
  }
 },
 "nbformat": 4,
 "nbformat_minor": 2
}
