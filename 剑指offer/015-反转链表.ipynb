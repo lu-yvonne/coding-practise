{
 "cells": [
  {
   "cell_type": "markdown",
   "metadata": {},
   "source": [
    "#### 题目描述\n",
    "输入一个链表，反转链表后，输出新链表的表头。\n",
    "#### 思路\n",
    "\n",
    "链表的翻转，例如 1->2->3->4->5  ==>  5->4->3->2->1\n",
    "<br>temp = pHead.next   把当前节点的下一个节点保存下来\n",
    "<br>pHead.next = pre   把前一个节点移到当前节点的下一个节点，因为要翻转节点，**pre始终指向要反转节点的首节点**\n",
    "<br>pre = pHead        当前节点向后移一位\n",
    "<br>pHead = temp        把之前保存的下一个节点指针再给当前节点接着翻转\n",
    "\n",
    "\n",
    "##### 注意，上面的节点保存以及移位是对所有节点进行的。"
   ]
  },
  {
   "cell_type": "code",
   "execution_count": 1,
   "metadata": {},
   "outputs": [],
   "source": [
    "class ListNode:\n",
    "    def __init__(self, x):\n",
    "        self.val = x\n",
    "        self.next = None\n",
    "class Solution:\n",
    "    # 返回ListNode\n",
    "    def ReverseList(self, pHead):\n",
    "        if not pHead:\n",
    "            return None\n",
    "        pre = None\n",
    "        while pHead:\n",
    "            temp = pHead.next\n",
    "            pHead.next = pre\n",
    "            pre = pHead\n",
    "            pHead = temp # 把phead的下一个节点指针给当前节点\n",
    "        return pre # 输出表头\n",
    "        \n",
    "        "
   ]
  }
 ],
 "metadata": {
  "kernelspec": {
   "display_name": "Python [default]",
   "language": "python",
   "name": "python3"
  },
  "language_info": {
   "codemirror_mode": {
    "name": "ipython",
    "version": 3
   },
   "file_extension": ".py",
   "mimetype": "text/x-python",
   "name": "python",
   "nbconvert_exporter": "python",
   "pygments_lexer": "ipython3",
   "version": "3.7.0"
  }
 },
 "nbformat": 4,
 "nbformat_minor": 2
}
