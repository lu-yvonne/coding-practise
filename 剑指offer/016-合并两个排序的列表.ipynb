{
 "cells": [
  {
   "cell_type": "markdown",
   "metadata": {},
   "source": [
    "#### 题目描述\n",
    "输入两个单调递增的链表，输出两个链表合成后的链表，当然我们需要合成后的链表满足单调不减规则。\n",
    "#### 思路\n",
    "方法1： 利用递归\n",
    "方法2： 新开一个链表，按大小储存即可"
   ]
  },
  {
   "cell_type": "code",
   "execution_count": null,
   "metadata": {},
   "outputs": [],
   "source": [
    "# -*- coding:utf-8 -*-\n",
    "class ListNode:\n",
    "    def __init__(self, x):\n",
    "        self.val = x\n",
    "        self.next = None\n",
    "class Solution:\n",
    "    # 返回合并后列表\n",
    "    def Merge(self, pHead1, pHead2):\n",
    "        # 首先要考虑链表为空的情况\n",
    "        if pHead1 = None:\n",
    "            return pHead2\n",
    "        elif pHead2 = None:\n",
    "            return pHead1\n",
    "        \n",
    "        mergehead = None\n",
    "        if pHead1 <= pHead2:\n",
    "            mergehead = pHead1\n",
    "            mergehead.next = self.Merge(pHead1.next, pHead2)\n",
    "        else:\n",
    "            mergehead = pHead2\n",
    "            mergehead.next = self.Merge(pHead1, pHead2.next)\n",
    "        return mergehead"
   ]
  },
  {
   "cell_type": "code",
   "execution_count": null,
   "metadata": {},
   "outputs": [],
   "source": [
    "class ListNode:\n",
    "    def __init__(self, x):\n",
    "        self.val = x\n",
    "        self.next = None\n",
    "class Solution:\n",
    "    # 返回合并后列表\n",
    "    def Merge(self, pHead1, pHead2):\n",
    "        res = ListNode(0)\n",
    "        mergehead = res\n",
    "        # 两个链表都有head的情况\n",
    "        while pHead1 and pHead2:\n",
    "            if pHead1.val <= pHead2.val:\n",
    "                mergehead.next = pHead1\n",
    "                pHead1 = pHead1.next\n",
    "            elif pHead1.val > pHead2.val:\n",
    "                mergehead.next = pHead2\n",
    "                pHead2 = pHead2.next\n",
    "                \n",
    "            mergehead = mergehead.next\n",
    "        \n",
    "        # 只有一个链表有head的情况\n",
    "        if pHead1:\n",
    "            mergehead.next = pHead1\n",
    "        if pHead2:\n",
    "            mergehead.next = pHead2\n",
    "        return res.next"
   ]
  }
 ],
 "metadata": {
  "kernelspec": {
   "display_name": "Python [default]",
   "language": "python",
   "name": "python3"
  },
  "language_info": {
   "codemirror_mode": {
    "name": "ipython",
    "version": 3
   },
   "file_extension": ".py",
   "mimetype": "text/x-python",
   "name": "python",
   "nbconvert_exporter": "python",
   "pygments_lexer": "ipython3",
   "version": "3.7.0"
  }
 },
 "nbformat": 4,
 "nbformat_minor": 2
}
