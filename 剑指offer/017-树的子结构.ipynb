{
 "cells": [
  {
   "cell_type": "markdown",
   "metadata": {},
   "source": [
    "#### 题目描述\n",
    "输入两棵二叉树A，B，判断B是不是A的子结构。（ps：我们约定空树不是任意一个树的子结构）\n",
    "#### 思路\n",
    "判断是否是子结构，首先判断根节点是不是相同，不相同是一个递归，把pRoot1的左右子树一次和pRoot2进行判断\n",
    "<br>如果根节点相同，那么进入下一个函数，接着判断，左边节点的下一级和左边子树下一级是不是相同，又是一个递归。\n",
    "<br>两个递归操作\n",
    "\n",
    "\n",
    "<br>1. 遍历父结构，2. 判断子结构是否相同"
   ]
  },
  {
   "cell_type": "code",
   "execution_count": null,
   "metadata": {},
   "outputs": [],
   "source": [
    "# -*- coding:utf-8 -*-\n",
    "class TreeNode:\n",
    "    def __init__(self, x):\n",
    "        self.val = x\n",
    "        self.left = None\n",
    "        self.right = None\n",
    "class Solution:\n",
    "    # 首先定义函数， 判断结构是否相同\n",
    "    def is_subtree(self, treeA, treeB):\n",
    "        # 注意是判断B是A的子结构\n",
    "        if treeB == None:# if not treeB\n",
    "            return True\n",
    "        if not treeA:\n",
    "            return False\n",
    "        if treeB.val != treeA.val:\n",
    "            return False\n",
    "        else:\n",
    "            return self.is_subtree(treeA.left, treeB.left) and self.is_subtree(treeA.right, treeB.right)\n",
    "        \n",
    "    # 进行递归操作进行判断\n",
    "    def HasSubtree(self, pRoot1, pRoot2):\n",
    "        res = False # res是result的缩写\n",
    "        # 首先判断是否两个tree都存在\n",
    "        if not pRoot1 or not pRoot2: ####  注意这里是两个not！！！\n",
    "            return False\n",
    "        # 如果找到了对应tree2的根节点的节点\n",
    "        if pRoot1.val == pRoot2.val:\n",
    "            # 以这个根节点为起点判断是否包括tree2\n",
    "            res = self.is_subtree(pRoot1, pRoot2)\n",
    "        if res:#(即res存在，不为False)\n",
    "            return True\n",
    "        else:# 如果没有找到\n",
    "            # 看看tree1的左子树是否包括tree2, 或者tree1的右子树有没有包括tree2\n",
    "            res = self.HasSubtree(pRoot1.left, pRoot2) or self.HasSubtree(pRoot1.right, pRoot2)\n",
    "        return res\n",
    "        \n"
   ]
  },
  {
   "cell_type": "markdown",
   "metadata": {},
   "source": [
    "最佳答案"
   ]
  },
  {
   "cell_type": "code",
   "execution_count": 2,
   "metadata": {},
   "outputs": [
    {
     "name": "stdout",
     "output_type": "stream",
     "text": [
      "\\nwoow\n"
     ]
    }
   ],
   "source": [
    "# -*- coding:utf-8 -*-\n",
    "# class TreeNode:\n",
    "#     def __init__(self, x):\n",
    "#         self.val = x\n",
    "#         self.left = None\n",
    "#         self.right = None\n",
    "class Solution:\n",
    "    def HasSubtree(self, pRoot1, pRoot2):\n",
    "        # write code here\n",
    "        if not pRoot1 or not pRoot2:\n",
    "            return False\n",
    "        return self.is_subtree(pRoot1, pRoot2) or self.HasSubtree(pRoot1.left, pRoot2) or self.HasSubtree(pRoot1.right, pRoot2)\n",
    "     \n",
    "    def is_subtree(self, A, B):\n",
    "        if not B:\n",
    "            return True\n",
    "        if not A or A.val != B.val:\n",
    "            return False\n",
    "        return self.is_subtree(A.left,B.left) and self.is_subtree(A.right, B.right)"
   ]
  }
 ],
 "metadata": {
  "kernelspec": {
   "display_name": "Python [default]",
   "language": "python",
   "name": "python3"
  },
  "language_info": {
   "codemirror_mode": {
    "name": "ipython",
    "version": 3
   },
   "file_extension": ".py",
   "mimetype": "text/x-python",
   "name": "python",
   "nbconvert_exporter": "python",
   "pygments_lexer": "ipython3",
   "version": "3.7.0"
  }
 },
 "nbformat": 4,
 "nbformat_minor": 2
}
