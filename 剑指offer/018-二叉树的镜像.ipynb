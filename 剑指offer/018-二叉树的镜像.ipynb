{
 "cells": [
  {
   "cell_type": "markdown",
   "metadata": {},
   "source": [
    "#### 题目描述\n",
    "操作给定的二叉树，将其变换为源二叉树的镜像。\n",
    "\n",
    "###### 输入描述:\n",
    "\n",
    "\n",
    "<pre>二叉树的镜像定义：源二叉树 \n",
    "    \t    8\n",
    "    \t   /  \\\n",
    "    \t  6   10\n",
    "    \t / \\  / \\\n",
    "    \t5  7 9 11\n",
    "    \t镜像二叉树\n",
    "    \t    8\n",
    "    \t   /  \\\n",
    "    \t  10   6\n",
    "    \t / \\  / \\\n",
    "    \t11 9 7  5</pre>\n",
    "\n",
    "#### 思路\n",
    "个人思路：从根开始的整棵树一分为2，然后最左与最右的根连带着子树进行交换，次左与次右的进行交换，然后再交换子树。进行递归循环？\n",
    "<br>解题思路：左右交换\n",
    "先前序遍历这棵树的每个结点，如果遍历到的结点有子结点，就交换它的两个子节点，\n",
    "当交换完所有的非叶子结点的左右子结点之后，就得到了树的镜像\n"
   ]
  },
  {
   "cell_type": "code",
   "execution_count": null,
   "metadata": {},
   "outputs": [],
   "source": [
    "# -*- coding:utf-8 -*-\n",
    "class TreeNode:\n",
    "    def __init__(self, x):\n",
    "        self.val = x\n",
    "        self.left = None\n",
    "        self.right = None\n",
    "class Solution:\n",
    "    # 返回镜像树的根节点\n",
    "    def Mirror(self, root):\n",
    "        if not root: # 每次首先考虑没有节点的情况\n",
    "            return None\n",
    "        temp = self.Mirror(root.left)\n",
    "        root.left = self.Mirror(root.right)\n",
    "        root.right = temp\n",
    "        return root \n",
    "        \n",
    "        # write code here"
   ]
  },
  {
   "cell_type": "code",
   "execution_count": null,
   "metadata": {},
   "outputs": [],
   "source": [
    "# -*- coding:utf-8 -*-\n",
    "class TreeNode:\n",
    "    def __init__(self, x):\n",
    "        self.val = x\n",
    "        self.left = None\n",
    "        self.right = None\n",
    "class Solution:\n",
    "    # 返回镜像树的根节点\n",
    "    def Mirror(self, root):\n",
    "        if not root: # 每次首先考虑没有节点的情况\n",
    "            return None\n",
    "        root.left, root.right = root.right, root.left\n",
    "        self.Mirror(root.left)\n",
    "        self.Mirror(root.right)\n",
    "        return root\n",
    "        \n",
    "        # write code here"
   ]
  }
 ],
 "metadata": {
  "kernelspec": {
   "display_name": "Python [default]",
   "language": "python",
   "name": "python3"
  },
  "language_info": {
   "codemirror_mode": {
    "name": "ipython",
    "version": 3
   },
   "file_extension": ".py",
   "mimetype": "text/x-python",
   "name": "python",
   "nbconvert_exporter": "python",
   "pygments_lexer": "ipython3",
   "version": "3.7.0"
  }
 },
 "nbformat": 4,
 "nbformat_minor": 2
}
