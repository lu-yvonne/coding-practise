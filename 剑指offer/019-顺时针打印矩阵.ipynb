{
 "cells": [
  {
   "cell_type": "markdown",
   "metadata": {},
   "source": [
    "#### 题目描述\n",
    "输入一个矩阵，按照从外向里以顺时针的顺序依次打印出每一个数字，例如，如果输入如下4 X 4矩阵： 1 2 3 4 5 6 7 8 9 10 11 12 13 14 15 16 则依次打印出数字1,2,3,4,8,12,16,15,14,13,9,5,6,7,11,10.\n",
    "#### 思路\n",
    "<br>个人思路：遍历整个矩阵,首先得到矩阵维度，然后按顺序输出\n",
    "\n",
    "**超神思路**：\n",
    "<br>可以模拟魔方逆时针旋转的方法，一直做取出第一行的操作\n",
    "<br>例如\n",
    "<br>1 2 3\n",
    "<br>4 5 6\n",
    "<br>7 8 9\n",
    "<br>输出并删除第一行后，再进行一次逆时针旋转，就变成：\n",
    "<br>6 9\n",
    "<br>5 8\n",
    "<br>4 7\n",
    "<br>继续重复上述操作即可\n",
    "\n",
    "其他思路：1 2 3 4 5 6 7 8 9 10 11 12 13 14 15 16\n",
    "<br>用一个bool数组标记走过的路，到底了就按照 右→下→左→上→右 的方式修改运动方向。就是一个剥圈的函数，这个函数 核心就是 左上点和右下点 每次走完剥圈函数之后 左上角坐标++，右下角-- 往圈内移"
   ]
  },
  {
   "cell_type": "code",
   "execution_count": null,
   "metadata": {},
   "outputs": [],
   "source": [
    "def printMatrix(self, matrix):\n",
    "    # write code here\n",
    "    result = []\n",
    "    while(matrix):\n",
    "        result += matrix.pop(0)\n",
    "        if not matrix or not matrix[0]:\n",
    "            break\n",
    "        # 将矩阵逆时针旋转\n",
    "        matrix[:] = map(list, zip(*matrix))[::-1]\n",
    "    return result"
   ]
  },
  {
   "cell_type": "code",
   "execution_count": 2,
   "metadata": {},
   "outputs": [],
   "source": [
    "def Rotate(matrix): # 将矩阵旋转90度\n",
    "    mat = []\n",
    "    row = len(matrix) #获取矩阵的行数\n",
    "    col = len(matrix[0]) #获取矩阵的列数\n",
    "    for i in range(col):\n",
    "        mat1 = [] # 每次进行列循环都创造一个空数组\n",
    "        for j in range(row):\n",
    "            mat1.append(matrix[j][i]) # 将matrix的内容按列放进空数组去 比如放进a[3][1],a[2][1]\n",
    "        mat.append(mat1) # 在列循环中，将之前的行数组加进数组，这样成为一个行数与matrix列数相同的数组\n",
    "    mat = mat[::-1] ### 注意这里转换时已经跳出循环\n",
    "    return mat\n",
    "\n",
    "def printMatrix(matrix):\n",
    "    res = []\n",
    "    while matrix:\n",
    "        res += matrix.pop(0)\n",
    "        if not matrix:\n",
    "            break\n",
    "        # 将矩阵逆时针旋转\n",
    "        matrix = Rotate(matrix)\n",
    "    return res\n"
   ]
  },
  {
   "cell_type": "code",
   "execution_count": 3,
   "metadata": {},
   "outputs": [
    {
     "data": {
      "text/plain": [
       "[1, 2, 3, 4, 8, 12, 16, 15, 14, 13, 9, 5, 6, 7, 11, 10]"
      ]
     },
     "execution_count": 3,
     "metadata": {},
     "output_type": "execute_result"
    }
   ],
   "source": [
    "matrix = [[1,2,3,4], [5,6,7,8],[9,10,11,12],[13,14,15,16]]\n",
    "printMatrix(matrix)"
   ]
  },
  {
   "cell_type": "code",
   "execution_count": null,
   "metadata": {},
   "outputs": [],
   "source": [
    "#### 最佳代码\n",
    "class Solution:\n",
    " \n",
    "    def printMatrix(self, matrix):\n",
    "        res = []\n",
    "        while matrix:\n",
    "            res += matrix.pop(0)\n",
    "            if matrix and matrix[0]:\n",
    "                for row in matrix:\n",
    "                    res.append(row.pop())\n",
    "            if matrix:\n",
    "                res += matrix.pop()[::-1]\n",
    "            if matrix and matrix[0]:\n",
    "                for row in matrix[::-1]:\n",
    "                    res.append(row.pop(0))\n",
    "        return res"
   ]
  },
  {
   "cell_type": "code",
   "execution_count": null,
   "metadata": {},
   "outputs": [],
   "source": [
    "def printMatrix(matrix):\n",
    "    # write code here\n",
    "    walked = [[False] * (len(matrix[0])+1) for _ in range(len(matrix)+1)]\n",
    "    for j in range(len(walked[-1])):\n",
    "        walked[-1][j] = True\n",
    "    for i in range(len(walked)):\n",
    "        walked[i][-1] = True\n",
    "    len_row = len(matrix) - 1\n",
    "    len_col = len(matrix[0]) - 1\n",
    "    res = []\n",
    "    i = 0\n",
    "    j = 0\n",
    "    direction = 0  # 0向右，1向下，2向左，3向上\n",
    "\n",
    "    while not walked[i][j]:\n",
    "        res.append(matrix[i][j])\n",
    "        walked[i][j] = True\n",
    "        if direction == 0: # right\n",
    "            if j < len_col and not walked[i][j+1]:\n",
    "                j += 1\n",
    "            else:\n",
    "                direction = 1\n",
    "                i += 1\n",
    "        elif direction == 1: # down\n",
    "            if i < len_row and not walked[i+1][j]:\n",
    "                i += 1\n",
    "            else:\n",
    "                direction = 2\n",
    "                j -= 1\n",
    "        elif direction == 2:  # left\n",
    "            if j > 0 and not walked[i][j-1]:\n",
    "                j -= 1\n",
    "            else:\n",
    "                direction = 3\n",
    "                i -= 1\n",
    "        elif direction == 3:  # up\n",
    "            if i > 0 and not walked[i-1][j]:\n",
    "                i -= 1\n",
    "            else:\n",
    "                direction = 0\n",
    "                j += 1\n",
    "    return res\n"
   ]
  },
  {
   "cell_type": "code",
   "execution_count": null,
   "metadata": {},
   "outputs": [],
   "source": []
  },
  {
   "cell_type": "code",
   "execution_count": null,
   "metadata": {},
   "outputs": [],
   "source": []
  },
  {
   "cell_type": "code",
   "execution_count": null,
   "metadata": {},
   "outputs": [],
   "source": []
  }
 ],
 "metadata": {
  "kernelspec": {
   "display_name": "Python [default]",
   "language": "python",
   "name": "python3"
  },
  "language_info": {
   "codemirror_mode": {
    "name": "ipython",
    "version": 3
   },
   "file_extension": ".py",
   "mimetype": "text/x-python",
   "name": "python",
   "nbconvert_exporter": "python",
   "pygments_lexer": "ipython3",
   "version": "3.7.0"
  }
 },
 "nbformat": 4,
 "nbformat_minor": 2
}
