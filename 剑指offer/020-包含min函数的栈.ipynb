{
 "cells": [
  {
   "cell_type": "markdown",
   "metadata": {},
   "source": [
    "#### 题目描述\n",
    "定义栈的数据结构，请在该类型中实现一个能够得到栈中所含最小元素的min函数（时间复杂度应为O（1））。\n",
    "#### 思路\n",
    "看到这个问题, 我们最开始可能会想, 添加一个成员变量用于保存最小元素, 每次压栈时如果压栈元素比当前最小元素更小, 就更新最小元素. \n",
    "<br>但是这样会有一个问题, 如果最小元素被弹出了呢, 如何获得下一个最小元素呢? 分析到这里可以发现, 仅仅添加一个成员变量存放最小元素是不够的, 我们需要在最小元素弹出后还能得到次小元素, 次小的弹出后, 还要能得到次次小的. \n",
    "<br>因此, 用另一个栈来保存这些元素是再合适不过的了. 我们叫它最小元素栈. \n",
    "<br>每次压栈操作时, 如果压栈元素比当前最小元素更小, 就把这个元素压入最小元素栈, 原本的最小元素就成了次小元素. 同理, 弹栈时, 如果弹出的元素和最小元素栈的栈顶元素相等, 就把最小元素的栈顶弹出.(但实际上同时出栈可以不用考虑比较数值，而能一定保证最小栈里存有最小值！)\n",
    "<pre>\n",
    "利用一个辅助栈来存放最小值\n",
    "\n",
    "    栈  3，4，2，5，1\n",
    "    辅助栈 3，3，2，2，1\n",
    "每入栈一次，就与辅助栈顶比较大小，如果小就入栈，如果大就入栈当前的辅助栈顶\n",
    "当出栈时，辅助栈也要出栈\n",
    "这种做法可以保证辅助栈顶一定都当前栈的最小值<pre>"
   ]
  },
  {
   "cell_type": "code",
   "execution_count": 2,
   "metadata": {},
   "outputs": [],
   "source": [
    "class Solution:\n",
    "    def __init__(self):\n",
    "        self.stack = []\n",
    "        self.stackMin = []\n",
    "    \n",
    "    def push(self, node):\n",
    "        self.stack.append(node)\n",
    "        if not self.stackMin:### 注意这里的全局变量要一直带self！\n",
    "            self.stackMin.append(node)\n",
    "        elif node < self.stackMin[-1]: # 比较栈顶元素stackMin[-1]\n",
    "            self.stackMin.append(node)\n",
    "        else:\n",
    "            self.stackMin.append(self.stackMin[-1])\n",
    "        # write code here\n",
    "    def pop(self):\n",
    "        if not self.stack or not self.stackMin:\n",
    "            return None\n",
    "        self.stack.pop()\n",
    "        self.stackMin.pop()\n",
    "        # 因为出栈元素一定大于等于stackMin中的最小元素\n",
    "        # write code here\n",
    "    def top(self):# 输出栈顶元素\n",
    "        if not self.stack:\n",
    "            return None\n",
    "        return self.stack[-1]\n",
    "        \n",
    "        # write code here\n",
    "    def min(self):# 输出stackMin中的栈顶元素\n",
    "        if not self.stackMin:\n",
    "            return None\n",
    "        return self.stackMin[-1]\n",
    "        \n",
    "        # write code here"
   ]
  },
  {
   "cell_type": "code",
   "execution_count": 3,
   "metadata": {},
   "outputs": [
    {
     "ename": "NameError",
     "evalue": "name 'push' is not defined",
     "output_type": "error",
     "traceback": [
      "\u001b[1;31m---------------------------------------------------------------------------\u001b[0m",
      "\u001b[1;31mNameError\u001b[0m                                 Traceback (most recent call last)",
      "\u001b[1;32m<ipython-input-3-81fd52934eea>\u001b[0m in \u001b[0;36m<module>\u001b[1;34m()\u001b[0m\n\u001b[1;32m----> 1\u001b[1;33m \u001b[0mpush\u001b[0m\u001b[1;33m(\u001b[0m\u001b[1;33m[\u001b[0m\u001b[1;34m\"PSH3\"\u001b[0m\u001b[1;33m,\u001b[0m\u001b[1;34m\"MIN\"\u001b[0m\u001b[1;33m,\u001b[0m\u001b[1;34m\"PSH4\"\u001b[0m\u001b[1;33m,\u001b[0m\u001b[1;34m\"MIN\"\u001b[0m\u001b[1;33m,\u001b[0m\u001b[1;34m\"PSH2\"\u001b[0m\u001b[1;33m,\u001b[0m\u001b[1;34m\"MIN\"\u001b[0m\u001b[1;33m,\u001b[0m\u001b[1;34m\"PSH3\"\u001b[0m\u001b[1;33m,\u001b[0m\u001b[1;34m\"MIN\"\u001b[0m\u001b[1;33m,\u001b[0m\u001b[1;34m\"POP\"\u001b[0m\u001b[1;33m,\u001b[0m\u001b[1;34m\"MIN\"\u001b[0m\u001b[1;33m,\u001b[0m\u001b[1;34m\"POP\"\u001b[0m\u001b[1;33m,\u001b[0m\u001b[1;34m\"MIN\"\u001b[0m\u001b[1;33m,\u001b[0m\u001b[1;34m\"POP\"\u001b[0m\u001b[1;33m,\u001b[0m\u001b[1;34m\"MIN\"\u001b[0m\u001b[1;33m,\u001b[0m\u001b[1;34m\"PSH0\"\u001b[0m\u001b[1;33m,\u001b[0m\u001b[1;34m\"MIN\"\u001b[0m\u001b[1;33m]\u001b[0m\u001b[1;33m)\u001b[0m\u001b[1;33m\u001b[0m\u001b[0m\n\u001b[0m",
      "\u001b[1;31mNameError\u001b[0m: name 'push' is not defined"
     ]
    }
   ],
   "source": []
  }
 ],
 "metadata": {
  "kernelspec": {
   "display_name": "Python [default]",
   "language": "python",
   "name": "python3"
  },
  "language_info": {
   "codemirror_mode": {
    "name": "ipython",
    "version": 3
   },
   "file_extension": ".py",
   "mimetype": "text/x-python",
   "name": "python",
   "nbconvert_exporter": "python",
   "pygments_lexer": "ipython3",
   "version": "3.7.0"
  }
 },
 "nbformat": 4,
 "nbformat_minor": 2
}
