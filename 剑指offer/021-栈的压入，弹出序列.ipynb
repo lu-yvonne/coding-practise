{
 "cells": [
  {
   "cell_type": "markdown",
   "metadata": {},
   "source": [
    "#### 题目描述\n",
    "输入两个整数序列，第一个序列表示栈的压入顺序，请判断第二个序列是否可能为该栈的弹出顺序。假设压入栈的所有数字均不相等。例如序列1,2,3,4,5是某栈的压入顺序，序列4,5,3,2,1是该压栈序列对应的一个弹出序列，但4,3,5,1,2就不可能是该压栈序列的弹出序列。（注意：这两个序列的长度是相等的）\n",
    "#### 思路\n",
    "压入顺序和弹出序列的关系：理想状态中从小到大入栈，从大到小出栈，但是现实情况下可能会有小的元素先出栈，这并不影响之后元素的出栈顺序。出栈的第一个元素是在原来的次序中是第几个，那么他的前面的元素必然都还在栈中。\n",
    "<br>**但是什么情况下是不可能发生的呢？**\n",
    "<br>进行举例说明，比如我们以ABCDE的顺序进行入栈，DCEAB的出栈顺序则是不可能的，虽然D可以第一个出栈，但是D入栈之前ABC仍会按照CBA的顺序出栈而且与E的出栈顺序无关。\n",
    "<br>再看题目中的这个例子，4虽然在5之前先出栈，但是并不影响321的出栈顺序，而不可能是312的出栈顺序\n",
    "\n",
    "算法思路：\n",
    "<br>借用一个辅助的栈，遍历压栈顺序，先讲第一个放入栈中，这里是1，然后判断栈顶元素是不是出栈顺序的第一个元素，这里是4，很显然1≠4，所以我们继续压栈，直到相等以后开始出栈，出栈一个元素，则将出栈顺序向后移动一位，直到不相等，这样循环等压栈顺序遍历完成，如果辅助栈还不为空，说明弹出序列不是该栈的弹出顺序。"
   ]
  },
  {
   "cell_type": "code",
   "execution_count": 4,
   "metadata": {},
   "outputs": [],
   "source": [
    "def IsPopOrder(pushV, popV):\n",
    "    if not pushV:\n",
    "        return False\n",
    "    stack = [] # 建立辅助栈\n",
    "    t = 0\n",
    "    for i in pushV: # 遍历压入栈\n",
    "        stack.append(i)\n",
    "        while stack and stack[-1] == popV[t]: #如果压入栈的第一个元素与弹出的栈的第t个元素相同（t从0开始）\n",
    "            stack.pop(-1) #弹出辅助栈的元素\n",
    "            t += 1 #数值加1，即与弹出栈的后一位进行比较\n",
    "    if not stack:\n",
    "        return True\n",
    "    else:\n",
    "        return False\n",
    "\n",
    "\n",
    "    # write code here"
   ]
  },
  {
   "cell_type": "code",
   "execution_count": 8,
   "metadata": {},
   "outputs": [
    {
     "name": "stdout",
     "output_type": "stream",
     "text": [
      "True\n",
      "False\n"
     ]
    }
   ],
   "source": [
    "print(IsPopOrder([1,2,3,4,5], [4,3,5,2,1]))\n",
    "print(IsPopOrder([1,2,3,4,5],[4,3,5,1,2]))"
   ]
  }
 ],
 "metadata": {
  "kernelspec": {
   "display_name": "Python [default]",
   "language": "python",
   "name": "python3"
  },
  "language_info": {
   "codemirror_mode": {
    "name": "ipython",
    "version": 3
   },
   "file_extension": ".py",
   "mimetype": "text/x-python",
   "name": "python",
   "nbconvert_exporter": "python",
   "pygments_lexer": "ipython3",
   "version": "3.7.0"
  }
 },
 "nbformat": 4,
 "nbformat_minor": 2
}
