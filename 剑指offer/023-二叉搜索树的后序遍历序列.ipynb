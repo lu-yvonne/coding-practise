{
 "cells": [
  {
   "cell_type": "markdown",
   "metadata": {},
   "source": [
    "#### 题目描述\n",
    "输入一个整数数组，判断该数组是不是某二叉搜索树的后序遍历的结果。如果是则输出Yes,否则输出No。假设输入的数组的任意两个数字都互不相同。\n",
    "#### 思路\n",
    "**二叉查找树（Binary Search Tree）**，（又：二叉搜索树，二叉排序树）它或者是一棵空树，或者是具有下列性质的二叉树： 若它的左子树不空，则左子树上所有结点的值均小于它的根结点的值； 若它的右子树不空，则右子树上所有结点的值均大于它的根结点的值； 它的左、右子树也分别为二叉排序树。\n",
    "\n",
    "后序遍历：先遍历左子树，再遍历又子树，最后遍历根\n",
    "\n",
    "算法步骤如下：\n",
    "1. 找到根结点；\n",
    "2. 遍历序列，找到第一个大于等于根结点的元素i，则i左侧为左子树、i右侧为右子树；\n",
    "3. 我们已经知道i左侧所有元素均小于根结点，那么再依次遍历右侧，看是否所有元素均大于根结点；若出现小于根结点的元素，则直接返回false；若右侧全都大于根结点，则：\n",
    "4. 分别递归判断左/右子序列是否为后序序列；"
   ]
  },
  {
   "cell_type": "code",
   "execution_count": null,
   "metadata": {},
   "outputs": [],
   "source": [
    "def VerifySquenceOfBST(self, sequence):\n",
    "        if not sequence:\n",
    "            return False\n",
    "        return self.isBinaryTree(sequence)\n",
    "\n",
    "    def isBinaryTree(self, sequence):\n",
    "        if len(sequence) == 0: #注意这点，不然会报错 有超出列表的嫌疑\n",
    "            return True\n",
    "        root = sequence[-1] # 根节点, 根是sequence[-1]\n",
    "        for i in range(len(sequence)): # 注意这里的-1 不要将root与root进行比较，这样可能会造成下面的min函数为empty\n",
    "            if sequence[i] > root:\n",
    "                break; # 找到分割点，i左侧为左子树，i右侧为右子树\n",
    "        for j in range(i,len(sequence)-1):\n",
    "            if sequence[j] < root:\n",
    "                return False\n",
    "        return self.isBinaryTree(sequence[:i]) and self.isBinaryTree(sequence[i:-1]) # 递归判断左右子树"
   ]
  },
  {
   "cell_type": "code",
   "execution_count": 36,
   "metadata": {},
   "outputs": [],
   "source": [
    "# -*- coding:utf-8 -*-\n",
    "def VerifySquenceOfBST(self, sequence):\n",
    "    if not sequence:\n",
    "        return False\n",
    "    # 根是sequence[-1]\n",
    "    # 左子树为空\n",
    "    if sequence[0] > sequence[-1]:\n",
    "        if min(sequence[:-1]) < sequence[-1]:#且如果中间有比根小的数 就是false\n",
    "            return False\n",
    "        return self.VerifySquenceOfBST(sequence[:-1])\n",
    "\n",
    "    # 右子树为空,且如果中间有比根大的数 就是false\n",
    "    if sequence[-2] < sequence[-1]:\n",
    "        if max(sequence[:-1]) > sequence[-1]:\n",
    "            return False\n",
    "        return self.VerifySquenceOfBST(sequence[:-1])\n",
    "\n",
    "    # 如果左右子树都不为空\n",
    "    return self.isBinaryTree(sequence)\n",
    "\n",
    "def isBinaryTree(self, sequence):\n",
    "    root = sequence[-1] # 根节点\n",
    "    for i in range(len(sequence)-1): # 注意这里的-1 不要将root与root进行比较，这样可能会造成下面的min函数为empty\n",
    "        if sequence[i] > root:\n",
    "            break; # 找到分割点，i左侧为左子树，i右侧为右子树\n",
    "    if min(sequence[i:-1]) <= sequence[-1]:\n",
    "        return False\n",
    "    return self.isBinaryTree(sequence[:i]) and self.isBinaryTree(sequence[i:-1]) # 递归判断左右子树\n",
    "\n",
    "        # write code here"
   ]
  },
  {
   "cell_type": "code",
   "execution_count": 66,
   "metadata": {},
   "outputs": [],
   "source": [
    "def VerifySquenceOfBST(sequence):\n",
    "    if not sequence:\n",
    "        return False\n",
    "    # 根是sequence[-1]\n",
    "    # 左子树为空\n",
    "    if sequence[0] > sequence[-1]:\n",
    "        if min(sequence[:-1]) < sequence[-1]:#且如果中间有比根小的数 就是false\n",
    "            return False\n",
    "        return VerifySquenceOfBST(sequence[:-1])\n",
    "\n",
    "    # 右子树为空,且如果中间有比根大的数 就是false\n",
    "    if sequence[-2] < sequence[-1]:\n",
    "        if max(sequence[:-1]) > sequence[-1]:\n",
    "            return False\n",
    "        return VerifySquenceOfBST(sequence[:-1])\n",
    "\n",
    "    # 如果左右子树都不为空\n",
    "    return isBinaryTree(sequence)\n",
    "\n",
    "def isBinaryTree(sequence):\n",
    "    if len(sequence) <= 1:\n",
    "        return True\n",
    "    root = sequence[-1] # 根节点\n",
    "    for i in range(len(sequence)-1):\n",
    "        if sequence[i] > root:\n",
    "            break # 找到分割点，i左侧为左子树，i右侧为右子树\n",
    "    if min(sequence[i:-1]) < root:\n",
    "        return False\n",
    "    return isBinaryTree(sequence[:i]) and isBinaryTree(sequence[i:-1]) # 递归判断左右子树"
   ]
  },
  {
   "cell_type": "code",
   "execution_count": 67,
   "metadata": {},
   "outputs": [
    {
     "name": "stdout",
     "output_type": "stream",
     "text": [
      "False\n",
      "True\n"
     ]
    }
   ],
   "source": [
    "print(VerifySquenceOfBST([1,2,4,3,6,9,8,5]))\n",
    "print(VerifySquenceOfBST([4,8,6,12,16,14,10]))"
   ]
  },
  {
   "cell_type": "code",
   "execution_count": 53,
   "metadata": {},
   "outputs": [
    {
     "name": "stdout",
     "output_type": "stream",
     "text": [
      "[6, 8, 9]\n",
      "[4]\n",
      "9\n"
     ]
    }
   ],
   "source": [
    "s = [1,2,4,3,6,8,9,5]\n",
    "for i in range(10):\n",
    "    if s[i] > s[-1]:\n",
    "        break\n",
    "print(s[i:-1])\n",
    "min(s[i:-1]) < s[-1]\n",
    "\n",
    "s1 = [1,2,4,3]\n",
    "for i in range(10):\n",
    "    if s1[i] > s1[-1]:\n",
    "        break\n",
    "print(s1[i:-1])\n",
    "min(s1[i:-1]) < s1[-1]\n",
    "\n",
    "s2 = [6,8,9]\n",
    "for i in range(3):\n",
    "    if s2[i] > s2[-1]:\n",
    "        break\n",
    "print(s2[i])"
   ]
  }
 ],
 "metadata": {
  "kernelspec": {
   "display_name": "Python [default]",
   "language": "python",
   "name": "python3"
  },
  "language_info": {
   "codemirror_mode": {
    "name": "ipython",
    "version": 3
   },
   "file_extension": ".py",
   "mimetype": "text/x-python",
   "name": "python",
   "nbconvert_exporter": "python",
   "pygments_lexer": "ipython3",
   "version": "3.7.0"
  }
 },
 "nbformat": 4,
 "nbformat_minor": 2
}
