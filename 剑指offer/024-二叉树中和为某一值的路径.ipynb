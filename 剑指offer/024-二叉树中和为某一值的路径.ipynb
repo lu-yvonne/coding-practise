{
 "cells": [
  {
   "cell_type": "markdown",
   "metadata": {},
   "source": [
    "#### 题目描述\n",
    "输入一颗二叉树的跟节点和一个整数，打印出二叉树中结点值的和为输入整数的所有路径。路径定义为从树的根结点开始往下一直到叶结点所经过的结点形成一条路径。(注意: 在返回值的list中，数组长度大的数组靠前)\n",
    "\n",
    "#### 思路\n",
    "递归方法\n"
   ]
  },
  {
   "cell_type": "code",
   "execution_count": null,
   "metadata": {},
   "outputs": [],
   "source": [
    "    def FindPath(self, root, expectNumber):\n",
    "        if not root:\n",
    "            return []\n",
    "        res = []\n",
    "        if not root.left and not root.right and root.val == expectNumber:\n",
    "            # 判断是否是叶子节点并且加出了输入整数的值\n",
    "            return [[root.val]] #返回结点？？？？\n",
    "        left = self.FindPath(root.left, expectNumber-root.val) #左右递归\n",
    "        right = self.FindPath(root.right, expectNumber-root.val)\n",
    "        for i in (left+right):\n",
    "            res.append([root.val]+i)\n",
    "        return res"
   ]
  }
 ],
 "metadata": {
  "kernelspec": {
   "display_name": "Python [default]",
   "language": "python",
   "name": "python3"
  },
  "language_info": {
   "codemirror_mode": {
    "name": "ipython",
    "version": 3
   },
   "file_extension": ".py",
   "mimetype": "text/x-python",
   "name": "python",
   "nbconvert_exporter": "python",
   "pygments_lexer": "ipython3",
   "version": "3.7.0"
  }
 },
 "nbformat": 4,
 "nbformat_minor": 2
}
